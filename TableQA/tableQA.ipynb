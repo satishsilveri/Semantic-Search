{
 "cells": [
  {
   "cell_type": "code",
   "execution_count": 1,
   "id": "4ed92530-3a94-480d-b0f1-e17e80a441c0",
   "metadata": {
    "tags": []
   },
   "outputs": [],
   "source": [
    "from transformers import pipeline"
   ]
  },
  {
   "cell_type": "code",
   "execution_count": 2,
   "id": "ae548eee-7f92-43ce-9d70-b60995fa4ead",
   "metadata": {
    "tags": []
   },
   "outputs": [],
   "source": [
    "tqa = pipeline(task=\"table-question-answering\", model=\"google/tapas-large-finetuned-wtq\")"
   ]
  },
  {
   "cell_type": "code",
   "execution_count": 3,
   "id": "0316a28e-789b-48b2-8f36-36bb74ed37f6",
   "metadata": {
    "tags": []
   },
   "outputs": [
    {
     "name": "stderr",
     "output_type": "stream",
     "text": [
      "PdfReadWarning: Xref table not zero-indexed. ID numbers for objects will be corrected. [pdf.py:1801]\n"
     ]
    }
   ],
   "source": [
    "import tabula\n",
    "import PyPDF4\n",
    "import os\n",
    "\n",
    "base_path = 'test_tables'\n",
    "\n",
    "# Specify the path to your PDF file\n",
    "pdf_path = \"/path/to/sample_table.pdf\"\n",
    "\n",
    "def get_pdf_page_count(pdf_path):\n",
    "    with open(pdf_path, \"rb\") as f:\n",
    "        reader = PyPDF4.PdfFileReader(f)\n",
    "        page_count = reader.numPages\n",
    "    return page_count\n",
    "\n",
    "total_pages = get_pdf_page_count(pdf_path)\n",
    "\n",
    "for page_num in range(1, total_pages+1):\n",
    "    \n",
    "    tables = tabula.read_pdf(pdf_path, pages=str(page_num), multiple_tables=True)\n",
    "    \n",
    "    page_path = os.path.join(base_path, str(page_num))\n",
    "    \n",
    "    if not os.path.exists(page_path):\n",
    "        os.makedirs(page_path)\n",
    "    \n",
    "    for idx, table in enumerate(tables):\n",
    "        table.to_csv('{}/{}/table_{}.csv'.format(base_path,page_num,str(idx+1)), index = False)"
   ]
  },
  {
   "cell_type": "code",
   "execution_count": 5,
   "id": "921cbb1b-984a-4d0a-a6ff-8ee4dc77fd10",
   "metadata": {
    "tags": []
   },
   "outputs": [],
   "source": [
    "import pandas as pd\n",
    "\n",
    "directory = '{}/{}'.format(base_path,str(2))\n",
    "\n",
    "# Initialize an empty dictionary to store dataframes\n",
    "dfs = []\n",
    "\n",
    "# Iterate over each file in the directory\n",
    "for filename in os.listdir(directory):\n",
    "    if filename.endswith(\".csv\"):\n",
    "        # Construct the full file path\n",
    "        file_path = os.path.join(directory, filename)\n",
    "        \n",
    "        # Read the CSV file into a dataframe and store it in the dictionary\n",
    "        dfs.append(pd.read_csv(file_path))"
   ]
  },
  {
   "cell_type": "code",
   "execution_count": 6,
   "id": "470aceb1-ebc9-47f5-a549-ef615973ffc5",
   "metadata": {
    "tags": []
   },
   "outputs": [
    {
     "data": {
      "text/plain": [
       "[   Time (drops of water)  Distance (cm)\n",
       " 0                      1        10,11,9\n",
       " 1                      2     29, 31, 30\n",
       " 2                      3     59, 58, 61\n",
       " 3                      4   102, 100, 98\n",
       " 4                      5  122, 125, 127,\n",
       "     Speed (mph)           Driver                         Car     Engine  \\\n",
       " 0       407.447  Craig Breedlove           Spirit of America     GE J47   \n",
       " 1       413.199        Tom Green            Wingfoot Express     WE J46   \n",
       " 2       434.220       Art Arfons               Green Monster     GE J79   \n",
       " 3       468.719  Craig Breedlove           Spirit of America     GE J79   \n",
       " 4       526.277  Craig Breedlove           Spirit of America     GE J79   \n",
       " 5       536.712       Art Arfons               Green Monster     GE J79   \n",
       " 6       555.127  Craig Breedlove  Spirit of America, Sonic 1     GE J79   \n",
       " 7       576.553       Art Arfons               Green Monster     GE J79   \n",
       " 8       600.601  Craig Breedlove  Spirit of America, Sonic 1     GE J79   \n",
       " 9       622.407    Gary Gabelich                  Blue Flame     Rocket   \n",
       " 10      633.468    Richard Noble                    Thrust 2  RR RG 146   \n",
       " 11      763.035       Andy Green                  Thrust SSC    RR Spey   \n",
       " \n",
       "         Date  \n",
       " 0     8/5/63  \n",
       " 1    10/2/64  \n",
       " 2    10/5/64  \n",
       " 3   10/13/64  \n",
       " 4   10/15/65  \n",
       " 5   10/27/65  \n",
       " 6    11/2/65  \n",
       " 7    11/7/65  \n",
       " 8   11/15/65  \n",
       " 9   10/23/70  \n",
       " 10   10/4/83  \n",
       " 11  10/15/97  ]"
      ]
     },
     "execution_count": 6,
     "metadata": {},
     "output_type": "execute_result"
    }
   ],
   "source": [
    "dfs"
   ]
  },
  {
   "cell_type": "code",
   "execution_count": 8,
   "id": "ec5517f5-f625-446b-bd11-f9d6e0d347a1",
   "metadata": {
    "tags": []
   },
   "outputs": [
    {
     "data": {
      "text/plain": [
       "pandas.core.frame.DataFrame"
      ]
     },
     "execution_count": 8,
     "metadata": {},
     "output_type": "execute_result"
    }
   ],
   "source": [
    "type(dfs[1])"
   ]
  },
  {
   "cell_type": "code",
   "execution_count": 11,
   "id": "e3d10798-bf9d-46bd-a1e1-fd555d60d7a2",
   "metadata": {
    "tags": []
   },
   "outputs": [],
   "source": [
    "table_answer = tqa(table=dfs[1].astype(str), query=\"What is the engine of spirit of america car?\")['cells'][0]"
   ]
  },
  {
   "cell_type": "code",
   "execution_count": 12,
   "id": "b723abcc-d466-4e17-9ec7-cb420194dcec",
   "metadata": {
    "tags": []
   },
   "outputs": [
    {
     "data": {
      "text/plain": [
       "'GE J47'"
      ]
     },
     "execution_count": 12,
     "metadata": {},
     "output_type": "execute_result"
    }
   ],
   "source": [
    "table_answer"
   ]
  }
 ],
 "metadata": {
  "kernelspec": {
   "display_name": "Python 3 (ipykernel)",
   "language": "python",
   "name": "python3"
  },
  "language_info": {
   "codemirror_mode": {
    "name": "ipython",
    "version": 3
   },
   "file_extension": ".py",
   "mimetype": "text/x-python",
   "name": "python",
   "nbconvert_exporter": "python",
   "pygments_lexer": "ipython3",
   "version": "3.11.5"
  }
 },
 "nbformat": 4,
 "nbformat_minor": 5
}
