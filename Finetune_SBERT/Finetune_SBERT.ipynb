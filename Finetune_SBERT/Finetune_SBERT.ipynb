{
 "cells": [
  {
   "cell_type": "code",
   "execution_count": 20,
   "id": "90378235-fea2-4eb2-9ad0-be40f1a25785",
   "metadata": {
    "tags": []
   },
   "outputs": [],
   "source": [
    "import pandas as pd"
   ]
  },
  {
   "cell_type": "code",
   "execution_count": 21,
   "id": "5da207f6-22ff-4dc4-ab1e-1d9e0fceb370",
   "metadata": {
    "tags": []
   },
   "outputs": [],
   "source": [
    "data = pd.read_csv('NvidiaDocumentationQandApairs.csv')"
   ]
  },
  {
   "cell_type": "code",
   "execution_count": 22,
   "id": "7199db82-7c1d-4b36-b2af-9eb3998c5b0e",
   "metadata": {
    "tags": []
   },
   "outputs": [
    {
     "data": {
      "text/html": [
       "<div>\n",
       "<style scoped>\n",
       "    .dataframe tbody tr th:only-of-type {\n",
       "        vertical-align: middle;\n",
       "    }\n",
       "\n",
       "    .dataframe tbody tr th {\n",
       "        vertical-align: top;\n",
       "    }\n",
       "\n",
       "    .dataframe thead th {\n",
       "        text-align: right;\n",
       "    }\n",
       "</style>\n",
       "<table border=\"1\" class=\"dataframe\">\n",
       "  <thead>\n",
       "    <tr style=\"text-align: right;\">\n",
       "      <th></th>\n",
       "      <th>Unnamed: 0</th>\n",
       "      <th>question</th>\n",
       "      <th>answer</th>\n",
       "    </tr>\n",
       "  </thead>\n",
       "  <tbody>\n",
       "    <tr>\n",
       "      <th>0</th>\n",
       "      <td>0</td>\n",
       "      <td>What is Hybridizer?</td>\n",
       "      <td>Hybridizer is a compiler from Altimesh that en...</td>\n",
       "    </tr>\n",
       "    <tr>\n",
       "      <th>1</th>\n",
       "      <td>1</td>\n",
       "      <td>How does Hybridizer generate optimized code?</td>\n",
       "      <td>Hybridizer uses decorated symbols to express p...</td>\n",
       "    </tr>\n",
       "    <tr>\n",
       "      <th>2</th>\n",
       "      <td>2</td>\n",
       "      <td>What are some parallelization patterns mention...</td>\n",
       "      <td>The text mentions using parallelization patter...</td>\n",
       "    </tr>\n",
       "    <tr>\n",
       "      <th>3</th>\n",
       "      <td>3</td>\n",
       "      <td>How can you benefit from accelerators without ...</td>\n",
       "      <td>You can benefit from accelerators' compute hor...</td>\n",
       "    </tr>\n",
       "    <tr>\n",
       "      <th>4</th>\n",
       "      <td>4</td>\n",
       "      <td>What is an example of using Hybridizer?</td>\n",
       "      <td>An example in the text demonstrates using Para...</td>\n",
       "    </tr>\n",
       "    <tr>\n",
       "      <th>...</th>\n",
       "      <td>...</td>\n",
       "      <td>...</td>\n",
       "      <td>...</td>\n",
       "    </tr>\n",
       "    <tr>\n",
       "      <th>7103</th>\n",
       "      <td>7103</td>\n",
       "      <td>What is the focus of the GTC event in 2015?</td>\n",
       "      <td>The focus of the GTC event in 2015 is GPU code...</td>\n",
       "    </tr>\n",
       "    <tr>\n",
       "      <th>7104</th>\n",
       "      <td>7104</td>\n",
       "      <td>How were the main changes made to the code for...</td>\n",
       "      <td>The main changes included merging kernels, reg...</td>\n",
       "    </tr>\n",
       "    <tr>\n",
       "      <th>7105</th>\n",
       "      <td>7105</td>\n",
       "      <td>What are some key fields in the cudaDeviceProp...</td>\n",
       "      <td>Some key fields include name, memoryClockRate,...</td>\n",
       "    </tr>\n",
       "    <tr>\n",
       "      <th>7106</th>\n",
       "      <td>7106</td>\n",
       "      <td>What did changing the kernel approach achieve ...</td>\n",
       "      <td>Changing the kernel approach reduced the itera...</td>\n",
       "    </tr>\n",
       "    <tr>\n",
       "      <th>7107</th>\n",
       "      <td>7107</td>\n",
       "      <td>What is the primary focus of STAC-A2 benchmarks?</td>\n",
       "      <td>The primary focus of STAC-A2 benchmarks is to ...</td>\n",
       "    </tr>\n",
       "  </tbody>\n",
       "</table>\n",
       "<p>7108 rows × 3 columns</p>\n",
       "</div>"
      ],
      "text/plain": [
       "      Unnamed: 0                                           question  \\\n",
       "0              0                                What is Hybridizer?   \n",
       "1              1       How does Hybridizer generate optimized code?   \n",
       "2              2  What are some parallelization patterns mention...   \n",
       "3              3  How can you benefit from accelerators without ...   \n",
       "4              4            What is an example of using Hybridizer?   \n",
       "...          ...                                                ...   \n",
       "7103        7103        What is the focus of the GTC event in 2015?   \n",
       "7104        7104  How were the main changes made to the code for...   \n",
       "7105        7105  What are some key fields in the cudaDeviceProp...   \n",
       "7106        7106  What did changing the kernel approach achieve ...   \n",
       "7107        7107   What is the primary focus of STAC-A2 benchmarks?   \n",
       "\n",
       "                                                 answer  \n",
       "0     Hybridizer is a compiler from Altimesh that en...  \n",
       "1     Hybridizer uses decorated symbols to express p...  \n",
       "2     The text mentions using parallelization patter...  \n",
       "3     You can benefit from accelerators' compute hor...  \n",
       "4     An example in the text demonstrates using Para...  \n",
       "...                                                 ...  \n",
       "7103  The focus of the GTC event in 2015 is GPU code...  \n",
       "7104  The main changes included merging kernels, reg...  \n",
       "7105  Some key fields include name, memoryClockRate,...  \n",
       "7106  Changing the kernel approach reduced the itera...  \n",
       "7107  The primary focus of STAC-A2 benchmarks is to ...  \n",
       "\n",
       "[7108 rows x 3 columns]"
      ]
     },
     "execution_count": 22,
     "metadata": {},
     "output_type": "execute_result"
    }
   ],
   "source": [
    "data"
   ]
  },
  {
   "cell_type": "code",
   "execution_count": 4,
   "id": "ef101d61-9312-4980-aba0-d2cb1eb85f66",
   "metadata": {
    "tags": []
   },
   "outputs": [],
   "source": [
    "import torch\n",
    "from torch.utils.data import DataLoader\n",
    "from transformers import BertTokenizer, BertModel\n",
    "from sentence_transformers import models, losses, SentenceTransformer\n",
    "from sentence_transformers import SentenceTransformer, losses, SentencesDataset\n",
    "from sentence_transformers.readers import InputExample"
   ]
  },
  {
   "cell_type": "code",
   "execution_count": 5,
   "id": "2a22dfdc-42c6-4af9-b966-91294f938631",
   "metadata": {
    "tags": []
   },
   "outputs": [],
   "source": [
    "# Define your question-answer dataset\n",
    "# Assuming you have lists of questions and answers\n",
    "questions = data['question'].values.tolist()\n",
    "answers = data['answer'].values.tolist()"
   ]
  },
  {
   "cell_type": "code",
   "execution_count": 6,
   "id": "7f377042-f0fd-497e-8bb8-074b85df8df3",
   "metadata": {
    "tags": []
   },
   "outputs": [],
   "source": [
    "questions_train = questions[:5000]\n",
    "questions_test = questions[5001:]"
   ]
  },
  {
   "cell_type": "code",
   "execution_count": 7,
   "id": "6738a53f-531d-4514-826f-f3585f490872",
   "metadata": {
    "tags": []
   },
   "outputs": [
    {
     "data": {
      "text/plain": [
       "5000"
      ]
     },
     "execution_count": 7,
     "metadata": {},
     "output_type": "execute_result"
    }
   ],
   "source": [
    "len(questions_train)"
   ]
  },
  {
   "cell_type": "code",
   "execution_count": 8,
   "id": "7ee06122-778f-4ab4-8712-1f3187f5c6fa",
   "metadata": {
    "tags": []
   },
   "outputs": [
    {
     "data": {
      "text/plain": [
       "2107"
      ]
     },
     "execution_count": 8,
     "metadata": {},
     "output_type": "execute_result"
    }
   ],
   "source": [
    "len(questions_test)"
   ]
  },
  {
   "cell_type": "code",
   "execution_count": 9,
   "id": "7e1b586f-f05d-4fe4-890c-e0db35cd41fe",
   "metadata": {
    "tags": []
   },
   "outputs": [],
   "source": [
    "answers_train = answers[:5000]\n",
    "answers_test = answers[5001:]"
   ]
  },
  {
   "cell_type": "code",
   "execution_count": 10,
   "id": "8f45c6ac-fe0a-4c6d-8143-250f59b55c53",
   "metadata": {
    "tags": []
   },
   "outputs": [
    {
     "data": {
      "text/plain": [
       "5000"
      ]
     },
     "execution_count": 10,
     "metadata": {},
     "output_type": "execute_result"
    }
   ],
   "source": [
    "len(answers_train)"
   ]
  },
  {
   "cell_type": "code",
   "execution_count": 11,
   "id": "fabd1c41-9cf5-4ddd-bf37-2beb614be665",
   "metadata": {
    "tags": []
   },
   "outputs": [
    {
     "data": {
      "text/plain": [
       "2107"
      ]
     },
     "execution_count": 11,
     "metadata": {},
     "output_type": "execute_result"
    }
   ],
   "source": [
    "len(answers_test)"
   ]
  },
  {
   "cell_type": "code",
   "execution_count": 12,
   "id": "669ff762-7dcf-4fb7-84b1-a64d7b51c28b",
   "metadata": {
    "tags": []
   },
   "outputs": [
    {
     "name": "stderr",
     "output_type": "stream",
     "text": [
      "/Users/satishsilveri/anaconda3/lib/python3.11/site-packages/torch/_utils.py:776: UserWarning: TypedStorage is deprecated. It will be removed in the future and UntypedStorage will be the only storage class. This should only matter to you if you are using storages directly.  To access UntypedStorage directly, use tensor.untyped_storage() instead of tensor.storage()\n",
      "  return self.fget.__get__(instance, owner)()\n"
     ]
    }
   ],
   "source": [
    "model_name = \"sentence-transformers/all-MiniLM-L12-v2\"\n",
    "\n",
    "# Load SBERT model\n",
    "model = SentenceTransformer(model_name)"
   ]
  },
  {
   "cell_type": "code",
   "execution_count": 13,
   "id": "c27bfd33-6da2-41b0-9deb-cbd1ed5249dc",
   "metadata": {
    "tags": []
   },
   "outputs": [],
   "source": [
    "def collate_fn(batch):\n",
    "    texts = [example.texts for example in batch]\n",
    "    labels = [example.label for example in batch]\n",
    "    return {'texts': texts, 'labels': labels}"
   ]
  },
  {
   "cell_type": "code",
   "execution_count": 14,
   "id": "7d736b29-9abd-406c-ac91-e7865a9de514",
   "metadata": {
    "tags": []
   },
   "outputs": [],
   "source": [
    "# Define a PyTorch DataLoader for your dataset\n",
    "data = [InputExample(texts=[q, a], label=1) for q, a in zip(questions_train, answers_train)]\n",
    "\n",
    "train_dataset = SentencesDataset(data, model=model)\n",
    "\n",
    "train_dataloader = DataLoader(train_dataset, shuffle=True, batch_size=8, collate_fn=collate_fn)"
   ]
  },
  {
   "cell_type": "code",
   "execution_count": 16,
   "id": "10014c80-1ef3-41b3-a6ad-1da03bec7f30",
   "metadata": {
    "tags": []
   },
   "outputs": [
    {
     "data": {
      "application/vnd.jupyter.widget-view+json": {
       "model_id": "5ed3bc901118480789524357a7921045",
       "version_major": 2,
       "version_minor": 0
      },
      "text/plain": [
       "Epoch:   0%|          | 0/10 [00:00<?, ?it/s]"
      ]
     },
     "metadata": {},
     "output_type": "display_data"
    },
    {
     "data": {
      "application/vnd.jupyter.widget-view+json": {
       "model_id": "622556a9d9d3440992d46048a89ac75b",
       "version_major": 2,
       "version_minor": 0
      },
      "text/plain": [
       "Iteration:   0%|          | 0/625 [00:00<?, ?it/s]"
      ]
     },
     "metadata": {},
     "output_type": "display_data"
    },
    {
     "data": {
      "application/vnd.jupyter.widget-view+json": {
       "model_id": "f4df760f61754eb2a83ebd4495eeb465",
       "version_major": 2,
       "version_minor": 0
      },
      "text/plain": [
       "Iteration:   0%|          | 0/625 [00:00<?, ?it/s]"
      ]
     },
     "metadata": {},
     "output_type": "display_data"
    },
    {
     "data": {
      "application/vnd.jupyter.widget-view+json": {
       "model_id": "d5a2918c475b4cd5bb9fd0495774392e",
       "version_major": 2,
       "version_minor": 0
      },
      "text/plain": [
       "Iteration:   0%|          | 0/625 [00:00<?, ?it/s]"
      ]
     },
     "metadata": {},
     "output_type": "display_data"
    },
    {
     "data": {
      "application/vnd.jupyter.widget-view+json": {
       "model_id": "624e916754cf4006b59a06f8aae9ffc1",
       "version_major": 2,
       "version_minor": 0
      },
      "text/plain": [
       "Iteration:   0%|          | 0/625 [00:00<?, ?it/s]"
      ]
     },
     "metadata": {},
     "output_type": "display_data"
    },
    {
     "data": {
      "application/vnd.jupyter.widget-view+json": {
       "model_id": "db3d9c6a26404c58a47b79d92da3ad98",
       "version_major": 2,
       "version_minor": 0
      },
      "text/plain": [
       "Iteration:   0%|          | 0/625 [00:00<?, ?it/s]"
      ]
     },
     "metadata": {},
     "output_type": "display_data"
    },
    {
     "data": {
      "application/vnd.jupyter.widget-view+json": {
       "model_id": "9e11e9bca37f4d58a582ceb70131818c",
       "version_major": 2,
       "version_minor": 0
      },
      "text/plain": [
       "Iteration:   0%|          | 0/625 [00:00<?, ?it/s]"
      ]
     },
     "metadata": {},
     "output_type": "display_data"
    },
    {
     "data": {
      "application/vnd.jupyter.widget-view+json": {
       "model_id": "4304b1e13fb04cf4adf2ae91dbac77a3",
       "version_major": 2,
       "version_minor": 0
      },
      "text/plain": [
       "Iteration:   0%|          | 0/625 [00:00<?, ?it/s]"
      ]
     },
     "metadata": {},
     "output_type": "display_data"
    },
    {
     "data": {
      "application/vnd.jupyter.widget-view+json": {
       "model_id": "089bdbfaa8c140c68d9f3d55d2aa3108",
       "version_major": 2,
       "version_minor": 0
      },
      "text/plain": [
       "Iteration:   0%|          | 0/625 [00:00<?, ?it/s]"
      ]
     },
     "metadata": {},
     "output_type": "display_data"
    },
    {
     "data": {
      "application/vnd.jupyter.widget-view+json": {
       "model_id": "d466044774934a2a999615c4f381b2b3",
       "version_major": 2,
       "version_minor": 0
      },
      "text/plain": [
       "Iteration:   0%|          | 0/625 [00:00<?, ?it/s]"
      ]
     },
     "metadata": {},
     "output_type": "display_data"
    },
    {
     "data": {
      "application/vnd.jupyter.widget-view+json": {
       "model_id": "89bfa424a691450abab0101202f322ce",
       "version_major": 2,
       "version_minor": 0
      },
      "text/plain": [
       "Iteration:   0%|          | 0/625 [00:00<?, ?it/s]"
      ]
     },
     "metadata": {},
     "output_type": "display_data"
    }
   ],
   "source": [
    "# Define loss function\n",
    "train_loss = losses.MultipleNegativesRankingLoss(model=model)\n",
    "\n",
    "model.fit(\n",
    "    [(train_dataloader, train_loss)],\n",
    "    epochs=10,\n",
    ")\n",
    "\n",
    "# Save the fine-tuned model\n",
    "model.save('NvidiaQA_all-MiniLM-L12-v2')"
   ]
  },
  {
   "cell_type": "code",
   "execution_count": 34,
   "id": "fe637545-1319-4bbc-9ae9-4f9ef36dd2fd",
   "metadata": {
    "tags": []
   },
   "outputs": [],
   "source": [
    "import numpy as np\n",
    "def create_negative_samples(row, df):\n",
    "    # Get all answers except the current answer for this question\n",
    "    df = df.sample(n=100)\n",
    "    other_answers = df['answer'].tolist()\n",
    "    if row['answer'] in other_answers:\n",
    "        other_answers.remove(row['answer'])\n",
    "    \n",
    "    # Randomly select an answer from the list of other answers\n",
    "    negative_answer = np.random.choice(other_answers)\n",
    "    \n",
    "    return negative_answer"
   ]
  },
  {
   "cell_type": "code",
   "execution_count": 35,
   "id": "975d7bfd-06d6-4f5c-a8c7-c7efb085aa08",
   "metadata": {
    "tags": []
   },
   "outputs": [],
   "source": [
    "data['negative_answer'] = data.apply(lambda row: create_negative_samples(row, data), axis=1)"
   ]
  },
  {
   "cell_type": "code",
   "execution_count": 36,
   "id": "6bbc2a10-9917-43b3-9cb3-b91ffcc4842e",
   "metadata": {
    "tags": []
   },
   "outputs": [
    {
     "data": {
      "text/html": [
       "<div>\n",
       "<style scoped>\n",
       "    .dataframe tbody tr th:only-of-type {\n",
       "        vertical-align: middle;\n",
       "    }\n",
       "\n",
       "    .dataframe tbody tr th {\n",
       "        vertical-align: top;\n",
       "    }\n",
       "\n",
       "    .dataframe thead th {\n",
       "        text-align: right;\n",
       "    }\n",
       "</style>\n",
       "<table border=\"1\" class=\"dataframe\">\n",
       "  <thead>\n",
       "    <tr style=\"text-align: right;\">\n",
       "      <th></th>\n",
       "      <th>Unnamed: 0</th>\n",
       "      <th>question</th>\n",
       "      <th>answer</th>\n",
       "      <th>negative_answer</th>\n",
       "    </tr>\n",
       "  </thead>\n",
       "  <tbody>\n",
       "    <tr>\n",
       "      <th>0</th>\n",
       "      <td>0</td>\n",
       "      <td>What is Hybridizer?</td>\n",
       "      <td>Hybridizer is a compiler from Altimesh that en...</td>\n",
       "      <td>The winning team used a TITAN X GPU.</td>\n",
       "    </tr>\n",
       "    <tr>\n",
       "      <th>1</th>\n",
       "      <td>1</td>\n",
       "      <td>How does Hybridizer generate optimized code?</td>\n",
       "      <td>Hybridizer uses decorated symbols to express p...</td>\n",
       "      <td>Jetson Xavier NX provides impressive computati...</td>\n",
       "    </tr>\n",
       "    <tr>\n",
       "      <th>2</th>\n",
       "      <td>2</td>\n",
       "      <td>What are some parallelization patterns mention...</td>\n",
       "      <td>The text mentions using parallelization patter...</td>\n",
       "      <td>While this guide can be followed from any Kit ...</td>\n",
       "    </tr>\n",
       "    <tr>\n",
       "      <th>3</th>\n",
       "      <td>3</td>\n",
       "      <td>How can you benefit from accelerators without ...</td>\n",
       "      <td>You can benefit from accelerators' compute hor...</td>\n",
       "      <td>In device launch, the launch latency remains a...</td>\n",
       "    </tr>\n",
       "    <tr>\n",
       "      <th>4</th>\n",
       "      <td>4</td>\n",
       "      <td>What is an example of using Hybridizer?</td>\n",
       "      <td>An example in the text demonstrates using Para...</td>\n",
       "      <td>CUDA-aware MPI implementations like MVAPICH2 o...</td>\n",
       "    </tr>\n",
       "    <tr>\n",
       "      <th>...</th>\n",
       "      <td>...</td>\n",
       "      <td>...</td>\n",
       "      <td>...</td>\n",
       "      <td>...</td>\n",
       "    </tr>\n",
       "    <tr>\n",
       "      <th>7103</th>\n",
       "      <td>7103</td>\n",
       "      <td>What is the focus of the GTC event in 2015?</td>\n",
       "      <td>The focus of the GTC event in 2015 is GPU code...</td>\n",
       "      <td>libnvidia-container is responsible for setting...</td>\n",
       "    </tr>\n",
       "    <tr>\n",
       "      <th>7104</th>\n",
       "      <td>7104</td>\n",
       "      <td>How were the main changes made to the code for...</td>\n",
       "      <td>The main changes included merging kernels, reg...</td>\n",
       "      <td>GDB provides insight into thread behaviors, st...</td>\n",
       "    </tr>\n",
       "    <tr>\n",
       "      <th>7105</th>\n",
       "      <td>7105</td>\n",
       "      <td>What are some key fields in the cudaDeviceProp...</td>\n",
       "      <td>Some key fields include name, memoryClockRate,...</td>\n",
       "      <td>The text mentions the UCI Higgs dataset, a bin...</td>\n",
       "    </tr>\n",
       "    <tr>\n",
       "      <th>7106</th>\n",
       "      <td>7106</td>\n",
       "      <td>What did changing the kernel approach achieve ...</td>\n",
       "      <td>Changing the kernel approach reduced the itera...</td>\n",
       "      <td>nvGRAPH supports essential graph algorithms li...</td>\n",
       "    </tr>\n",
       "    <tr>\n",
       "      <th>7107</th>\n",
       "      <td>7107</td>\n",
       "      <td>What is the primary focus of STAC-A2 benchmarks?</td>\n",
       "      <td>The primary focus of STAC-A2 benchmarks is to ...</td>\n",
       "      <td>__shfl_down_sync() facilitates tree-reduction ...</td>\n",
       "    </tr>\n",
       "  </tbody>\n",
       "</table>\n",
       "<p>7108 rows × 4 columns</p>\n",
       "</div>"
      ],
      "text/plain": [
       "      Unnamed: 0                                           question  \\\n",
       "0              0                                What is Hybridizer?   \n",
       "1              1       How does Hybridizer generate optimized code?   \n",
       "2              2  What are some parallelization patterns mention...   \n",
       "3              3  How can you benefit from accelerators without ...   \n",
       "4              4            What is an example of using Hybridizer?   \n",
       "...          ...                                                ...   \n",
       "7103        7103        What is the focus of the GTC event in 2015?   \n",
       "7104        7104  How were the main changes made to the code for...   \n",
       "7105        7105  What are some key fields in the cudaDeviceProp...   \n",
       "7106        7106  What did changing the kernel approach achieve ...   \n",
       "7107        7107   What is the primary focus of STAC-A2 benchmarks?   \n",
       "\n",
       "                                                 answer  \\\n",
       "0     Hybridizer is a compiler from Altimesh that en...   \n",
       "1     Hybridizer uses decorated symbols to express p...   \n",
       "2     The text mentions using parallelization patter...   \n",
       "3     You can benefit from accelerators' compute hor...   \n",
       "4     An example in the text demonstrates using Para...   \n",
       "...                                                 ...   \n",
       "7103  The focus of the GTC event in 2015 is GPU code...   \n",
       "7104  The main changes included merging kernels, reg...   \n",
       "7105  Some key fields include name, memoryClockRate,...   \n",
       "7106  Changing the kernel approach reduced the itera...   \n",
       "7107  The primary focus of STAC-A2 benchmarks is to ...   \n",
       "\n",
       "                                        negative_answer  \n",
       "0                  The winning team used a TITAN X GPU.  \n",
       "1     Jetson Xavier NX provides impressive computati...  \n",
       "2     While this guide can be followed from any Kit ...  \n",
       "3     In device launch, the launch latency remains a...  \n",
       "4     CUDA-aware MPI implementations like MVAPICH2 o...  \n",
       "...                                                 ...  \n",
       "7103  libnvidia-container is responsible for setting...  \n",
       "7104  GDB provides insight into thread behaviors, st...  \n",
       "7105  The text mentions the UCI Higgs dataset, a bin...  \n",
       "7106  nvGRAPH supports essential graph algorithms li...  \n",
       "7107  __shfl_down_sync() facilitates tree-reduction ...  \n",
       "\n",
       "[7108 rows x 4 columns]"
      ]
     },
     "execution_count": 36,
     "metadata": {},
     "output_type": "execute_result"
    }
   ],
   "source": [
    "data"
   ]
  },
  {
   "cell_type": "code",
   "execution_count": 40,
   "id": "ed8af3e9-0653-4cac-b756-26a226db999c",
   "metadata": {
    "tags": []
   },
   "outputs": [],
   "source": [
    "train_data = data.iloc[0:5000]\n",
    "\n",
    "test_data = data.iloc[5001:]"
   ]
  },
  {
   "cell_type": "code",
   "execution_count": 43,
   "id": "93eeb678-ebb1-4af1-b50d-0ed60b094523",
   "metadata": {
    "tags": []
   },
   "outputs": [
    {
     "data": {
      "text/html": [
       "<div>\n",
       "<style scoped>\n",
       "    .dataframe tbody tr th:only-of-type {\n",
       "        vertical-align: middle;\n",
       "    }\n",
       "\n",
       "    .dataframe tbody tr th {\n",
       "        vertical-align: top;\n",
       "    }\n",
       "\n",
       "    .dataframe thead th {\n",
       "        text-align: right;\n",
       "    }\n",
       "</style>\n",
       "<table border=\"1\" class=\"dataframe\">\n",
       "  <thead>\n",
       "    <tr style=\"text-align: right;\">\n",
       "      <th></th>\n",
       "      <th>Unnamed: 0</th>\n",
       "      <th>question</th>\n",
       "      <th>answer</th>\n",
       "      <th>negative_answer</th>\n",
       "    </tr>\n",
       "  </thead>\n",
       "  <tbody>\n",
       "    <tr>\n",
       "      <th>0</th>\n",
       "      <td>0</td>\n",
       "      <td>What is Hybridizer?</td>\n",
       "      <td>Hybridizer is a compiler from Altimesh that en...</td>\n",
       "      <td>The winning team used a TITAN X GPU.</td>\n",
       "    </tr>\n",
       "    <tr>\n",
       "      <th>1</th>\n",
       "      <td>1</td>\n",
       "      <td>How does Hybridizer generate optimized code?</td>\n",
       "      <td>Hybridizer uses decorated symbols to express p...</td>\n",
       "      <td>Jetson Xavier NX provides impressive computati...</td>\n",
       "    </tr>\n",
       "    <tr>\n",
       "      <th>2</th>\n",
       "      <td>2</td>\n",
       "      <td>What are some parallelization patterns mention...</td>\n",
       "      <td>The text mentions using parallelization patter...</td>\n",
       "      <td>While this guide can be followed from any Kit ...</td>\n",
       "    </tr>\n",
       "    <tr>\n",
       "      <th>3</th>\n",
       "      <td>3</td>\n",
       "      <td>How can you benefit from accelerators without ...</td>\n",
       "      <td>You can benefit from accelerators' compute hor...</td>\n",
       "      <td>In device launch, the launch latency remains a...</td>\n",
       "    </tr>\n",
       "    <tr>\n",
       "      <th>4</th>\n",
       "      <td>4</td>\n",
       "      <td>What is an example of using Hybridizer?</td>\n",
       "      <td>An example in the text demonstrates using Para...</td>\n",
       "      <td>CUDA-aware MPI implementations like MVAPICH2 o...</td>\n",
       "    </tr>\n",
       "    <tr>\n",
       "      <th>...</th>\n",
       "      <td>...</td>\n",
       "      <td>...</td>\n",
       "      <td>...</td>\n",
       "      <td>...</td>\n",
       "    </tr>\n",
       "    <tr>\n",
       "      <th>4995</th>\n",
       "      <td>4995</td>\n",
       "      <td>What is the role of the TCS feature-rich semi-...</td>\n",
       "      <td>The TCS feature-rich semi-automatic labeling t...</td>\n",
       "      <td>The two-step approach in spectral partitioning...</td>\n",
       "    </tr>\n",
       "    <tr>\n",
       "      <th>4996</th>\n",
       "      <td>4996</td>\n",
       "      <td>What was the motivation behind developing the ...</td>\n",
       "      <td>The motivation behind developing the automated...</td>\n",
       "      <td>Sparse matrix processing is optimized using pa...</td>\n",
       "    </tr>\n",
       "    <tr>\n",
       "      <th>4997</th>\n",
       "      <td>4997</td>\n",
       "      <td>What kind of datasets are crucial for camera-b...</td>\n",
       "      <td>Accurately annotated datasets are crucial for ...</td>\n",
       "      <td>When adding PCAST to multi-threaded programs, ...</td>\n",
       "    </tr>\n",
       "    <tr>\n",
       "      <th>4998</th>\n",
       "      <td>4998</td>\n",
       "      <td>What were the challenges with the initial vers...</td>\n",
       "      <td>The challenges with the initial version of the...</td>\n",
       "      <td>GPU-accelerated libraries in the CUDA Toolkit ...</td>\n",
       "    </tr>\n",
       "    <tr>\n",
       "      <th>4999</th>\n",
       "      <td>4999</td>\n",
       "      <td>How did the introduction of the tracking algor...</td>\n",
       "      <td>The tracking algorithm provided track identifi...</td>\n",
       "      <td>With WSL 2, Microsoft addressed the limitation...</td>\n",
       "    </tr>\n",
       "  </tbody>\n",
       "</table>\n",
       "<p>5000 rows × 4 columns</p>\n",
       "</div>"
      ],
      "text/plain": [
       "      Unnamed: 0                                           question  \\\n",
       "0              0                                What is Hybridizer?   \n",
       "1              1       How does Hybridizer generate optimized code?   \n",
       "2              2  What are some parallelization patterns mention...   \n",
       "3              3  How can you benefit from accelerators without ...   \n",
       "4              4            What is an example of using Hybridizer?   \n",
       "...          ...                                                ...   \n",
       "4995        4995  What is the role of the TCS feature-rich semi-...   \n",
       "4996        4996  What was the motivation behind developing the ...   \n",
       "4997        4997  What kind of datasets are crucial for camera-b...   \n",
       "4998        4998  What were the challenges with the initial vers...   \n",
       "4999        4999  How did the introduction of the tracking algor...   \n",
       "\n",
       "                                                 answer  \\\n",
       "0     Hybridizer is a compiler from Altimesh that en...   \n",
       "1     Hybridizer uses decorated symbols to express p...   \n",
       "2     The text mentions using parallelization patter...   \n",
       "3     You can benefit from accelerators' compute hor...   \n",
       "4     An example in the text demonstrates using Para...   \n",
       "...                                                 ...   \n",
       "4995  The TCS feature-rich semi-automatic labeling t...   \n",
       "4996  The motivation behind developing the automated...   \n",
       "4997  Accurately annotated datasets are crucial for ...   \n",
       "4998  The challenges with the initial version of the...   \n",
       "4999  The tracking algorithm provided track identifi...   \n",
       "\n",
       "                                        negative_answer  \n",
       "0                  The winning team used a TITAN X GPU.  \n",
       "1     Jetson Xavier NX provides impressive computati...  \n",
       "2     While this guide can be followed from any Kit ...  \n",
       "3     In device launch, the launch latency remains a...  \n",
       "4     CUDA-aware MPI implementations like MVAPICH2 o...  \n",
       "...                                                 ...  \n",
       "4995  The two-step approach in spectral partitioning...  \n",
       "4996  Sparse matrix processing is optimized using pa...  \n",
       "4997  When adding PCAST to multi-threaded programs, ...  \n",
       "4998  GPU-accelerated libraries in the CUDA Toolkit ...  \n",
       "4999  With WSL 2, Microsoft addressed the limitation...  \n",
       "\n",
       "[5000 rows x 4 columns]"
      ]
     },
     "execution_count": 43,
     "metadata": {},
     "output_type": "execute_result"
    }
   ],
   "source": [
    "train_data"
   ]
  },
  {
   "cell_type": "code",
   "execution_count": 45,
   "id": "f6e90b0f-7c37-462b-92a5-29cebbe77d98",
   "metadata": {
    "tags": []
   },
   "outputs": [],
   "source": [
    "model = SentenceTransformer(model_name)"
   ]
  },
  {
   "cell_type": "code",
   "execution_count": 50,
   "id": "22a8368d-864a-4191-82da-a1a6f638f6c4",
   "metadata": {
    "tags": []
   },
   "outputs": [],
   "source": [
    "constrastive_loss_train_data = []\n",
    "for index, row in train_data.iterrows():\n",
    "    temp_pos = InputExample(texts=[row['question'], row['answer']], label=1)\n",
    "    temp_neg = InputExample(texts=[row['question'], row['negative_answer']], label=0)\n",
    "    constrastive_loss_train_data.append(temp_pos)\n",
    "    constrastive_loss_train_data.append(temp_neg)"
   ]
  },
  {
   "cell_type": "code",
   "execution_count": 51,
   "id": "93aa0663-fc2e-44bb-b523-3f7a54b61097",
   "metadata": {
    "tags": []
   },
   "outputs": [],
   "source": [
    "constrastive_loss_train_dataset = SentencesDataset(constrastive_loss_train_data, model=model)\n",
    "\n",
    "constrastive_loss_train_dataloader = DataLoader(constrastive_loss_train_dataset, shuffle=True, batch_size=8, collate_fn=collate_fn)"
   ]
  },
  {
   "cell_type": "code",
   "execution_count": 52,
   "id": "faaf0fa2-de37-4976-b0d0-f3349c9754c0",
   "metadata": {
    "tags": []
   },
   "outputs": [
    {
     "data": {
      "application/vnd.jupyter.widget-view+json": {
       "model_id": "c3f338aec4dd456c8043550390499de0",
       "version_major": 2,
       "version_minor": 0
      },
      "text/plain": [
       "Epoch:   0%|          | 0/10 [00:00<?, ?it/s]"
      ]
     },
     "metadata": {},
     "output_type": "display_data"
    },
    {
     "data": {
      "application/vnd.jupyter.widget-view+json": {
       "model_id": "45863d3a8b35498a98ca52aea8b4d09a",
       "version_major": 2,
       "version_minor": 0
      },
      "text/plain": [
       "Iteration:   0%|          | 0/1250 [00:00<?, ?it/s]"
      ]
     },
     "metadata": {},
     "output_type": "display_data"
    },
    {
     "data": {
      "application/vnd.jupyter.widget-view+json": {
       "model_id": "520ed99931a449788535e4373b8024c9",
       "version_major": 2,
       "version_minor": 0
      },
      "text/plain": [
       "Iteration:   0%|          | 0/1250 [00:00<?, ?it/s]"
      ]
     },
     "metadata": {},
     "output_type": "display_data"
    },
    {
     "data": {
      "application/vnd.jupyter.widget-view+json": {
       "model_id": "2b26396d0aae4989bf148a5b0bf1afe9",
       "version_major": 2,
       "version_minor": 0
      },
      "text/plain": [
       "Iteration:   0%|          | 0/1250 [00:00<?, ?it/s]"
      ]
     },
     "metadata": {},
     "output_type": "display_data"
    },
    {
     "data": {
      "application/vnd.jupyter.widget-view+json": {
       "model_id": "e63196f93d0a4ac5aede90878f69023e",
       "version_major": 2,
       "version_minor": 0
      },
      "text/plain": [
       "Iteration:   0%|          | 0/1250 [00:00<?, ?it/s]"
      ]
     },
     "metadata": {},
     "output_type": "display_data"
    },
    {
     "data": {
      "application/vnd.jupyter.widget-view+json": {
       "model_id": "a72ac73775a84d0e9b3b104be543a3be",
       "version_major": 2,
       "version_minor": 0
      },
      "text/plain": [
       "Iteration:   0%|          | 0/1250 [00:00<?, ?it/s]"
      ]
     },
     "metadata": {},
     "output_type": "display_data"
    },
    {
     "data": {
      "application/vnd.jupyter.widget-view+json": {
       "model_id": "e90e04a5452e49df923f34b6d16a41c5",
       "version_major": 2,
       "version_minor": 0
      },
      "text/plain": [
       "Iteration:   0%|          | 0/1250 [00:00<?, ?it/s]"
      ]
     },
     "metadata": {},
     "output_type": "display_data"
    },
    {
     "data": {
      "application/vnd.jupyter.widget-view+json": {
       "model_id": "7e34ee7006c84003871f5d9905ff85ae",
       "version_major": 2,
       "version_minor": 0
      },
      "text/plain": [
       "Iteration:   0%|          | 0/1250 [00:00<?, ?it/s]"
      ]
     },
     "metadata": {},
     "output_type": "display_data"
    },
    {
     "data": {
      "application/vnd.jupyter.widget-view+json": {
       "model_id": "21d68e1991eb4c0aa35e5949643a8086",
       "version_major": 2,
       "version_minor": 0
      },
      "text/plain": [
       "Iteration:   0%|          | 0/1250 [00:00<?, ?it/s]"
      ]
     },
     "metadata": {},
     "output_type": "display_data"
    },
    {
     "data": {
      "application/vnd.jupyter.widget-view+json": {
       "model_id": "ca983e6146e2462e8c88babbc382d6eb",
       "version_major": 2,
       "version_minor": 0
      },
      "text/plain": [
       "Iteration:   0%|          | 0/1250 [00:00<?, ?it/s]"
      ]
     },
     "metadata": {},
     "output_type": "display_data"
    },
    {
     "data": {
      "application/vnd.jupyter.widget-view+json": {
       "model_id": "ccb6f07675bd4f3dbbc803f3215d6385",
       "version_major": 2,
       "version_minor": 0
      },
      "text/plain": [
       "Iteration:   0%|          | 0/1250 [00:00<?, ?it/s]"
      ]
     },
     "metadata": {},
     "output_type": "display_data"
    }
   ],
   "source": [
    "# Define loss function\n",
    "constrastive_train_loss = losses.ContrastiveLoss(model=model)\n",
    "\n",
    "model.fit(\n",
    "    [(constrastive_loss_train_dataloader, constrastive_train_loss)],\n",
    "    epochs=10,\n",
    ")\n",
    "\n",
    "# Save the fine-tuned model\n",
    "model.save('NvidiaQA_all-MiniLM-L12-v2_constrastive_loss')"
   ]
  },
  {
   "cell_type": "code",
   "execution_count": null,
   "id": "1704b437-3b78-441c-8592-d6b416394474",
   "metadata": {},
   "outputs": [],
   "source": []
  }
 ],
 "metadata": {
  "kernelspec": {
   "display_name": "Python 3 (ipykernel)",
   "language": "python",
   "name": "python3"
  },
  "language_info": {
   "codemirror_mode": {
    "name": "ipython",
    "version": 3
   },
   "file_extension": ".py",
   "mimetype": "text/x-python",
   "name": "python",
   "nbconvert_exporter": "python",
   "pygments_lexer": "ipython3",
   "version": "3.11.5"
  }
 },
 "nbformat": 4,
 "nbformat_minor": 5
}
