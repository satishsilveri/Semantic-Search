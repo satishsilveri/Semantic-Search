{
 "cells": [
  {
   "cell_type": "code",
   "execution_count": 1,
   "id": "2f6986a8-0be0-4d44-a0bd-0fe5546897ca",
   "metadata": {},
   "outputs": [],
   "source": [
    "import validators\n",
    "import fitz\n",
    "from langchain_community.document_loaders import PyMuPDFLoader, OnlinePDFLoader\n",
    "import os\n",
    "from urllib.parse import urlparse\n",
    "import camelot"
   ]
  },
  {
   "cell_type": "code",
   "execution_count": 2,
   "id": "cd7b1e07-6c52-4f42-b811-74ad0c43766d",
   "metadata": {
    "tags": []
   },
   "outputs": [],
   "source": [
    "class ProcessDocument:\n",
    "\n",
    "    def __init__(self, url_or_path):\n",
    "        self.url_or_path  = url_or_path\n",
    "\n",
    "    def extract_data(self):\n",
    "\n",
    "        images = []\n",
    "        tables = []\n",
    "        file_name = \"\"\n",
    "        if validators.url(self.url_or_path):\n",
    "            loader = OnlinePDFLoader(self.url_or_path)\n",
    "            url_parse_obj = urlparse(url)\n",
    "            file_name = os.path.basename(url_parse_obj.path)\n",
    "        else:\n",
    "            file_name = os.path.basename(self.url_or_path)\n",
    "            loader = PyMuPDFLoader(self.url_or_path)\n",
    "\n",
    "            # extract images\n",
    "            doc = fitz.open(self.url_or_path) # open a document\n",
    "\n",
    "            for page_index in range(len(doc)): # iterate over pdf pages\n",
    "                page = doc[page_index] # get the page\n",
    "                image_list = page.get_images()\n",
    "\n",
    "                if not os.path.exists(os.path.join(os.getcwd(), file_name, 'images')):\n",
    "                    os.makedirs(os.path.join(os.getcwd(), file_name, 'images'))\n",
    "\n",
    "                for image_index, img in enumerate(image_list, start=1): # enumerate the image list\n",
    "                    xref = img[0] # get the XREF of the image\n",
    "                    pix = fitz.Pixmap(doc, xref) # create a Pixmap\n",
    "\n",
    "                    if pix.n - pix.alpha > 3: # CMYK: convert to RGB first\n",
    "                        pix = fitz.Pixmap(fitz.csRGB, pix)\n",
    "\n",
    "                    image_path = \"{}/{}/images/page_{}-image_{}.png\".format(os.getcwd(),file_name, page_index, image_index)\n",
    "\n",
    "                    if not os.path.exists(image_path):\n",
    "                        pix.save(image_path) # save the image as png\n",
    "                    \n",
    "                    temp = {}\n",
    "                    temp['image'] = pix\n",
    "                    temp['image_path'] = image_path\n",
    "                    images.append(temp)\n",
    "                    pix = None\n",
    "\n",
    "            # extract tables\n",
    "            tables = camelot.read_pdf(self.url_or_path)\n",
    "\n",
    "            tables = [table.df for table in tables]\n",
    "        \n",
    "        documents = loader.load()\n",
    "\n",
    "        return documents, images, tables"
   ]
  },
  {
   "cell_type": "code",
   "execution_count": 3,
   "id": "88793542-4e9d-4668-99c4-af006e0e7c62",
   "metadata": {
    "tags": []
   },
   "outputs": [],
   "source": [
    "process_doc_obj = ProcessDocument(url_or_path=\"/Users/satishsilveri/Downloads/echap03_vol1.pdf\")"
   ]
  },
  {
   "cell_type": "code",
   "execution_count": 4,
   "id": "c639e8a7-fb84-4eb2-9d10-e0052d475a95",
   "metadata": {
    "tags": []
   },
   "outputs": [],
   "source": [
    "documents, images, tables = process_doc_obj.extract_data()"
   ]
  },
  {
   "cell_type": "code",
   "execution_count": 5,
   "id": "5368b685-96dd-4479-8c52-f802ae011c81",
   "metadata": {
    "tags": []
   },
   "outputs": [
    {
     "data": {
      "text/plain": [
       "[]"
      ]
     },
     "execution_count": 5,
     "metadata": {},
     "output_type": "execute_result"
    }
   ],
   "source": [
    "tables"
   ]
  },
  {
   "cell_type": "code",
   "execution_count": 6,
   "id": "940d0e2b-6161-4cb0-b948-8c9ac1f9322c",
   "metadata": {
    "tags": []
   },
   "outputs": [
    {
     "data": {
      "text/plain": [
       "[{'image': Pixmap(DeviceRGB, (0, 0, 309, 64), 0),\n",
       "  'image_path': '/Users/satishsilveri/echap03_vol1.pdf/images/page_0-image_1.png'},\n",
       " {'image': Pixmap(DeviceRGB, (0, 0, 2048, 875), 0),\n",
       "  'image_path': '/Users/satishsilveri/echap03_vol1.pdf/images/page_1-image_1.png'},\n",
       " {'image': Pixmap(DeviceRGB, (0, 0, 2050, 966), 0),\n",
       "  'image_path': '/Users/satishsilveri/echap03_vol1.pdf/images/page_2-image_1.png'},\n",
       " {'image': Pixmap(DeviceRGB, (0, 0, 66, 57), 0),\n",
       "  'image_path': '/Users/satishsilveri/echap03_vol1.pdf/images/page_5-image_1.png'},\n",
       " {'image': Pixmap(DeviceRGB, (0, 0, 1300, 815), 0),\n",
       "  'image_path': '/Users/satishsilveri/echap03_vol1.pdf/images/page_6-image_1.png'},\n",
       " {'image': Pixmap(DeviceRGB, (0, 0, 1508, 667), 0),\n",
       "  'image_path': '/Users/satishsilveri/echap03_vol1.pdf/images/page_20-image_1.png'},\n",
       " {'image': Pixmap(DeviceRGB, (0, 0, 1344, 691), 0),\n",
       "  'image_path': '/Users/satishsilveri/echap03_vol1.pdf/images/page_20-image_2.png'},\n",
       " {'image': Pixmap(DeviceRGB, (0, 0, 549, 61), 0),\n",
       "  'image_path': '/Users/satishsilveri/echap03_vol1.pdf/images/page_21-image_1.png'},\n",
       " {'image': Pixmap(DeviceRGB, (0, 0, 542, 61), 0),\n",
       "  'image_path': '/Users/satishsilveri/echap03_vol1.pdf/images/page_21-image_2.png'},\n",
       " {'image': Pixmap(DeviceRGB, (0, 0, 30, 68), 0),\n",
       "  'image_path': '/Users/satishsilveri/echap03_vol1.pdf/images/page_22-image_1.png'},\n",
       " {'image': Pixmap(DeviceRGB, (0, 0, 82, 256), 0),\n",
       "  'image_path': '/Users/satishsilveri/echap03_vol1.pdf/images/page_22-image_2.png'},\n",
       " {'image': Pixmap(DeviceRGB, (0, 0, 31, 58), 0),\n",
       "  'image_path': '/Users/satishsilveri/echap03_vol1.pdf/images/page_22-image_3.png'},\n",
       " {'image': Pixmap(DeviceRGB, (0, 0, 31, 31), 0),\n",
       "  'image_path': '/Users/satishsilveri/echap03_vol1.pdf/images/page_22-image_4.png'},\n",
       " {'image': Pixmap(DeviceRGB, (0, 0, 31, 83), 0),\n",
       "  'image_path': '/Users/satishsilveri/echap03_vol1.pdf/images/page_22-image_5.png'},\n",
       " {'image': Pixmap(DeviceRGB, (0, 0, 42, 14), 0),\n",
       "  'image_path': '/Users/satishsilveri/echap03_vol1.pdf/images/page_22-image_6.png'},\n",
       " {'image': Pixmap(DeviceRGB, (0, 0, 448, 99), 0),\n",
       "  'image_path': '/Users/satishsilveri/echap03_vol1.pdf/images/page_22-image_7.png'},\n",
       " {'image': Pixmap(DeviceRGB, (0, 0, 32, 111), 0),\n",
       "  'image_path': '/Users/satishsilveri/echap03_vol1.pdf/images/page_22-image_8.png'},\n",
       " {'image': Pixmap(DeviceRGB, (0, 0, 32, 166), 0),\n",
       "  'image_path': '/Users/satishsilveri/echap03_vol1.pdf/images/page_22-image_9.png'},\n",
       " {'image': Pixmap(DeviceRGB, (0, 0, 31, 30), 0),\n",
       "  'image_path': '/Users/satishsilveri/echap03_vol1.pdf/images/page_22-image_10.png'},\n",
       " {'image': Pixmap(DeviceRGB, (0, 0, 31, 9), 0),\n",
       "  'image_path': '/Users/satishsilveri/echap03_vol1.pdf/images/page_22-image_11.png'},\n",
       " {'image': Pixmap(DeviceRGB, (0, 0, 30, 59), 0),\n",
       "  'image_path': '/Users/satishsilveri/echap03_vol1.pdf/images/page_22-image_12.png'},\n",
       " {'image': Pixmap(DeviceRGB, (0, 0, 32, 141), 0),\n",
       "  'image_path': '/Users/satishsilveri/echap03_vol1.pdf/images/page_22-image_13.png'},\n",
       " {'image': Pixmap(DeviceRGB, (0, 0, 32, 143), 0),\n",
       "  'image_path': '/Users/satishsilveri/echap03_vol1.pdf/images/page_22-image_14.png'},\n",
       " {'image': Pixmap(DeviceRGB, (0, 0, 31, 23), 0),\n",
       "  'image_path': '/Users/satishsilveri/echap03_vol1.pdf/images/page_22-image_15.png'},\n",
       " {'image': Pixmap(DeviceRGB, (0, 0, 910, 525), 0),\n",
       "  'image_path': '/Users/satishsilveri/echap03_vol1.pdf/images/page_23-image_1.png'},\n",
       " {'image': Pixmap(DeviceRGB, (0, 0, 270, 299), 0),\n",
       "  'image_path': '/Users/satishsilveri/echap03_vol1.pdf/images/page_23-image_2.png'},\n",
       " {'image': Pixmap(DeviceRGB, (0, 0, 1, 15), 0),\n",
       "  'image_path': '/Users/satishsilveri/echap03_vol1.pdf/images/page_23-image_3.png'},\n",
       " {'image': Pixmap(DeviceRGB, (0, 0, 1, 50), 0),\n",
       "  'image_path': '/Users/satishsilveri/echap03_vol1.pdf/images/page_23-image_4.png'},\n",
       " {'image': Pixmap(DeviceRGB, (0, 0, 1, 522), 0),\n",
       "  'image_path': '/Users/satishsilveri/echap03_vol1.pdf/images/page_23-image_5.png'},\n",
       " {'image': Pixmap(DeviceRGB, (0, 0, 1, 55), 0),\n",
       "  'image_path': '/Users/satishsilveri/echap03_vol1.pdf/images/page_23-image_6.png'},\n",
       " {'image': Pixmap(DeviceRGB, (0, 0, 1885, 1910), 0),\n",
       "  'image_path': '/Users/satishsilveri/echap03_vol1.pdf/images/page_35-image_1.png'},\n",
       " {'image': Pixmap(DeviceRGB, (0, 0, 1764, 2194), 0),\n",
       "  'image_path': '/Users/satishsilveri/echap03_vol1.pdf/images/page_36-image_1.png'}]"
      ]
     },
     "execution_count": 6,
     "metadata": {},
     "output_type": "execute_result"
    }
   ],
   "source": [
    "images"
   ]
  },
  {
   "cell_type": "code",
   "execution_count": 7,
   "id": "a209bf59-f527-4c5b-969c-566247e2747f",
   "metadata": {},
   "outputs": [
    {
     "data": {
      "text/plain": [
       "37"
      ]
     },
     "execution_count": 7,
     "metadata": {},
     "output_type": "execute_result"
    }
   ],
   "source": [
    "len(documents)"
   ]
  },
  {
   "cell_type": "code",
   "execution_count": 8,
   "id": "890c7e25-653f-4cbb-ad59-7c2bc60de390",
   "metadata": {
    "tags": []
   },
   "outputs": [],
   "source": [
    "import torch\n",
    "from transformers import CLIPModel, CLIPProcessor\n",
    "from sentence_transformers import SentenceTransformer\n",
    "\n",
    "class EmbedData:\n",
    "    def __init__(self, text_model_name: str =\"sentence-transformers/all-MiniLM-L12-v2\", image_model_name:str = \"openai/clip-vit-base-patch32\"):\n",
    "        # load text model\n",
    "        self.text_model = SentenceTransformer(text_model_name)\n",
    "        # load image model\n",
    "        self.image_model = CLIPModel.from_pretrained(image_model_name)\n",
    "        self.image_processor = CLIPProcessor.from_pretrained(image_model_name)\n",
    "        self.device = \"cuda\" if torch.cuda.is_available() else \"cpu\"\n",
    "        self.image_model.to(self.device)\n",
    "\n",
    "    def get_text_embedding(self, text):\n",
    "        return self.text_model.encode(text).tolist()\n",
    "\n",
    "    @torch.no_grad()\n",
    "    def get_query_embeddings_for_image(self, query):\n",
    "        inputs = self.image_processor(text=query, return_tensors=\"pt\")\n",
    "        inputs = inputs.to(self.device)\n",
    "        query_features = self.image_model.get_text_features(**inputs)\n",
    "        query_features /= query_features.norm(dim=-1, keepdim=True)\n",
    "        return query_features.tolist()\n",
    "\n",
    "    @torch.no_grad()\n",
    "    def get_image_embeddings(self, images):\n",
    "        inputs = self.processor(images=images, return_tensors=\"pt\")\n",
    "        inputs = inputs.to(self.device)\n",
    "        image_embeddings = self.model.get_image_features(**inputs)\n",
    "        image_embeddings /= image_embeddings.norm(dim=-1, keepdim=True)\n",
    "        return image_embeddings.tolist()"
   ]
  },
  {
   "cell_type": "code",
   "execution_count": 9,
   "id": "9fe52315-fa03-407d-a100-05474aab0509",
   "metadata": {},
   "outputs": [],
   "source": [
    "from nltk.tokenize import sent_tokenize\n",
    "from langchain_community.vectorstores import Chroma\n",
    "from langchain.docstore.document import Document\n",
    "import re\n",
    "from langchain_community.embeddings import HuggingFaceEmbeddings\n",
    "# from embed_data import EmbedData\n",
    "\n",
    "class IndexData:\n",
    "\n",
    "    def __init__(self):\n",
    "        self.embed_data_obj = EmbedData()\n",
    "\n",
    "    def clean_text(self, text):\n",
    "        # Remove escape characters\n",
    "        cleaned_text = text.encode('ascii', 'ignore').decode()\n",
    "        \n",
    "        # Remove unwanted spaces\n",
    "        cleaned_text = ' '.join(cleaned_text.split())\n",
    "        \n",
    "        cleaned_text = cleaned_text.lower()\n",
    "        \n",
    "        return cleaned_text\n",
    "\n",
    "    def split_text_by_token_length(self, text: str = \"\", token_length: int = 400):\n",
    "        '''\n",
    "        '''\n",
    "        sentences = sent_tokenize(text)\n",
    "        chunks = []\n",
    "        current_chunk = []\n",
    "\n",
    "        for sentence in sentences:\n",
    "            sentence = sentence.strip()\n",
    "            if not sentence:\n",
    "                continue\n",
    "            \n",
    "            current_chunk.append(sentence)\n",
    "            if sum(len(s.split()) for s in current_chunk) > token_length:\n",
    "                chunks.append('. '.join(current_chunk[:-1]))\n",
    "                current_chunk = [current_chunk[-1]]\n",
    "\n",
    "        if current_chunk:\n",
    "            chunks.append('. '.join(current_chunk))\n",
    "\n",
    "        return chunks\n",
    "\n",
    "    def split_text_by_token_length_with_sliding_window(self, text: str = \"\", token_length: int = 400):\n",
    "        '''\n",
    "        '''\n",
    "        sentences = sent_tokenize(text)\n",
    "        chunks = []\n",
    "        current_chunk = []\n",
    "        window_size = 0\n",
    "\n",
    "        for sentence in sentences:\n",
    "            sentence = sentence.strip()\n",
    "            if not sentence:\n",
    "                continue\n",
    "\n",
    "            current_chunk.append(sentence)\n",
    "            window_size += len(sentence.split())\n",
    "\n",
    "            while window_size > token_length:\n",
    "                chunks.append('. '.join(current_chunk[:-1]))\n",
    "                window_size -= len(current_chunk[0].split())\n",
    "                current_chunk.pop(0)\n",
    "\n",
    "        if current_chunk:\n",
    "            chunks.append('. '.join(current_chunk))\n",
    "\n",
    "        return chunks\n",
    "\n",
    "    def index_text(self, documents, token_length : int = 400, overlap: bool = False, k :int = 5):\n",
    "        '''\n",
    "        '''\n",
    "\n",
    "        # split documents\n",
    "        splitted_documents = []\n",
    "\n",
    "        for document in documents:\n",
    "            if overlap:\n",
    "                chunks = self.split_text_by_token_length_with_sliding_window(text = document.page_content, token_length=token_length)\n",
    "            else:\n",
    "                chunks = self.split_text_by_token_length(text = document.page_content, token_length=token_length)\n",
    "\n",
    "            for chunk_idx, chunk in enumerate(chunks):\n",
    "                temp_metadata = document.metadata\n",
    "                temp_metadata['chunk_id'] = chunk_idx\n",
    "                # superficial cleaning\n",
    "                cleaned_chunk = self.clean_text(text = chunk)\n",
    "                temp_doc = Document(page_content = cleaned_chunk, metadata=temp_metadata)\n",
    "                splitted_documents.append(temp_doc)\n",
    "        \n",
    "        # initialize vector database and add docs\n",
    "        text_db = Chroma.from_documents(documents = splitted_documents, collection_name=\"documents_collection\", embedding = HuggingFaceEmbeddings(model_name=\"all-MiniLM-L12-v2\"))\n",
    "\n",
    "        # convert to retriever\n",
    "        retriever = text_db.as_retriever(search_type=\"similarity\",search_kwargs={\"k\": k})\n",
    "\n",
    "        return retriever\n",
    "\n",
    "\n",
    "    def index_images(self, images):\n",
    "        '''\n",
    "        '''\n",
    "        # generate image embeddings\n",
    "        images_embeddings = []\n",
    "        docs = []\n",
    "        for img_obj in images:\n",
    "            image_embeddings.append(self.embed_data_obj.get_image_embeddings(images = img_obj['image']))\n",
    "            temp_doc = Document(page_content = \"\", metadata={'image_path':img_obj['image_path']})\n",
    "            docs.append(temp_doc)\n",
    "\n",
    "        # initialize image vector db and add embeddinghs\n",
    "        images_db = Chroma.from_documents(documents=docs, embeddings=image_embeddings, embedding_function=self.embed_data_obj.get_query_embeddings_for_image(), collection_name=\"images_collection\")\n",
    "\n",
    "        return images_db"
   ]
  },
  {
   "cell_type": "code",
   "execution_count": 10,
   "id": "39783a5c-8207-4d52-a6ff-a9e8ae14ef1d",
   "metadata": {
    "tags": []
   },
   "outputs": [
    {
     "name": "stderr",
     "output_type": "stream",
     "text": [
      "/Users/satishsilveri/anaconda3/lib/python3.11/site-packages/torch/_utils.py:776: UserWarning: TypedStorage is deprecated. It will be removed in the future and UntypedStorage will be the only storage class. This should only matter to you if you are using storages directly.  To access UntypedStorage directly, use tensor.untyped_storage() instead of tensor.storage()\n",
      "  return self.fget.__get__(instance, owner)()\n"
     ]
    }
   ],
   "source": [
    "index_data_obj = IndexData()\n",
    "text_retriever = index_data_obj.index_text(documents, token_length = 400, overlap = True, k = 5)"
   ]
  },
  {
   "cell_type": "code",
   "execution_count": 11,
   "id": "d867c72f-7227-4f90-b78b-536cef5fdc3b",
   "metadata": {},
   "outputs": [
    {
     "data": {
      "text/plain": [
       "[Document(page_content='87 does indias sovereign credit rating reflect its fundamentals no!. table 1: indias sovereign credit rating (1998-2020) date s&p moodys fitch june 1998 ba2* october 1998 bb* march 2000 bb+* november 2001 bb* february 2003 ba1* january 2004 bb+* january 2004 baa3 february 2005 bb+* august 2006 bbb- january 2007 bbb- november 2017 baa2 june 2020 baa3 *speculative grade; green highlights ratings upgrade; red highlights ratings downgrade, black indicates first rating source: compiled from s&p global, fitch and moodys box 1: what are sovereign credit ratings?. sovereign credit ratings seek to quantify issuers ability to meet debt obligations.. when favourable, these can facilitate countries access to global capital markets and foreign investment.. table below presents what three key cras s&p, moodys and fitch, seek to measure.. what credit ratings measure fitch \"credit ratings express risk in relative rank order, which is to say they are ordinal measures of credit risk and are not predictive of a specific frequency of default or loss.. fitch ratings\\' credit ratings do not directly address any risk other than credit risk, ratings do not deal with the risk of a market value loss on a rated security due to changes in interest rates, liquidity and other market considerations.\". moody\\'s \"there is an expectation that rating will, on average, relate to subsequent default frequency, although they typically are not defined as precise default rate estimates.. moody\\'s ratings are therefore intended to convey opinions of the relative creditworthiness of issues and obligations...moody\\'s rating process also involves forming views about the likelihood of plausible scenarios, or outcomesnot forecasting them, but instead placing some weight on their likely occurrence and on the potential credit consequences.. normal fluctuations in economic activity are generally included in these scenarios, and by incorporating our views about the likehood of such scenarios, we give our ratings relative stability over economic cycles and a sense of horizon.\". standard & poor\\'s \"standard & poor\\'s credit ratings are designed primarily to provide relative rankings among issues and obligations of overall creditworthiness; the ratings are not measures of absolute default probability.. creditworthiness encompasses likehood of default and also includes payment priority, recovery, and credit stability.\". source: imf (2010)', metadata={'author': '', 'chunk_id': 0, 'creationDate': \"D:20210129051414+05'30'\", 'creator': 'Adobe InDesign CS6 (Windows)', 'file_path': '/Users/satishsilveri/Downloads/echap03_vol1.pdf', 'format': 'PDF 1.4', 'keywords': '', 'modDate': \"D:20210129051422+05'30'\", 'page': 3, 'producer': 'Adobe PDF Library 10.0.1', 'source': '/Users/satishsilveri/Downloads/echap03_vol1.pdf', 'subject': '', 'title': '', 'total_pages': 37, 'trapped': ''}),\n",
       " Document(page_content='113 does indias sovereign credit rating reflect its fundamentals no!. figure 40: indias consumer price inflation (annual per cent change) and sovereign credit rating changes 13.1% 4.3% 4.0% 3.9% 3.8% 6.7% 3.6% 0% 2% 4% 6% 8% 10% 12% 14% 1998-99 1999-00 2000-01 2001-02 2002-03 2003-04 2004-05 2005-06 2006-07 2007-08 2008-09 2009-10 2010-11 2011-12 2012-13 2013-14 2014-15 2015-16 2016-17 2017-18 2018-19 2019-20 cpi annual (% change) note: red signifies year of rating downgrade.. green signifies year of rating upgrade.. source: rbi and imf figure 41: indias current account deficit (as per cent of gdp) and sovereign credit rating changes 1.0% -0.7% -1.2% -2.3% 0.3% 1.0% 1.8% -3% -2% -1% 0% 1% 2% 3% 4% 5% 1998-99 1999-00 2000-01 2001-02 2002-03 2003-04 2004-05 2005-06 2006-07 2007-08 2008-09 2009-10 2010-11 2011-12 2012-13 2013-14 2014-15 2015-16 2016-17 2017-18 2018-19 2019-20 current account defict (% of gdp) note: red signifies year of rating downgrade.. green signifies year of rating upgrade.. source: rbi 3.51 figure 41 shows indias current account deficit (as per cent of gdp) in relation to sovereign credit ratings changes during the period 1998-20.. the pattern of correlation between sovereign credit rating changes and current account deficit is not clear.. 3.52 figure 42 shows the average change in annual performance of these macroeconomic indicators (gdp growth, fiscal deficit, general government debt, overall debt, inflation and current account deficit) before, during and after a sovereign credit ratings change.. it may be seen that during years of indias sovereign credit rating changes, the average performance of macroeconomic indicators was better than or similar to the previous year.. the average performance of macroeconomic indicators further improved or was similar in the year after the sovereign credit rating change.', metadata={'author': '', 'chunk_id': 0, 'creationDate': \"D:20210129051414+05'30'\", 'creator': 'Adobe InDesign CS6 (Windows)', 'file_path': '/Users/satishsilveri/Downloads/echap03_vol1.pdf', 'format': 'PDF 1.4', 'keywords': '', 'modDate': \"D:20210129051422+05'30'\", 'page': 29, 'producer': 'Adobe PDF Library 10.0.1', 'source': '/Users/satishsilveri/Downloads/echap03_vol1.pdf', 'subject': '', 'title': '', 'total_pages': 37, 'trapped': ''}),\n",
       " Document(page_content='90 economic survey 2020-21 volume 1 figure 4: indias gdp growth annual (per cent) (1990-2020) source: mospi and rbi does indias sovereign credit rating reflect its fundamentals?. no!. 3.5 there is a large academic literature that highlights bias and subjectivity in sovereign credit ratings, especially against countries with lower ratings (see box 2 for a select literature review).. do the fundamentals that supposedly drive sovereign credit ratings rationalise this historical anomaly of indias low ratings?. in this chapter, the survey asks this important question and answers a resounding no!. box 2: select literature on bias and subjectivity in sovereign credit ratings ferri, liu, and stiglitz (1999) suggested that cras aggravated the east asian crisis by first failing to predict its emergence and thereafter becoming excessively conservative.. cras downgraded east asian crisis countries more than what would have been justified by these countries worsening economic fundamentals.. this adversely affected the supply of international capital to these countries.. ferri, liu, and stiglitz (1999) also proposed an endogenous rationale for cras becoming excessively conservative after making errors in predicting the crisis that of recovering from the damage caused by these errors and rebuilding their own reputation.. reinhart (2002) found evidence of procyclicality in ratings through her study of 62 economies over the period 1979-1999.. she observed that sovereign credit ratings tend to be reactive, especially for emerging market economies, with significantly higher probability of downgrade as well as higher size of downgrade as compared to developed economies.. kaminsky and schmukler (2002) also found evidence of procyclicality of credit ratings and that rating agencies may be contributing to financial market instability in emerging economies.. they observed that rating upgrades take place after market rallies while downgrades take place after downturns.. further, they suggested that even if rating agencies do not behave procyclically, their announcements may still trigger market jitters because many institutional investors can hold only investment-grade instruments.. downgrading (or upgrading) sovereign debt below (or above) investment grade may thus', metadata={'author': '', 'chunk_id': 0, 'creationDate': \"D:20210129051414+05'30'\", 'creator': 'Adobe InDesign CS6 (Windows)', 'file_path': '/Users/satishsilveri/Downloads/echap03_vol1.pdf', 'format': 'PDF 1.4', 'keywords': '', 'modDate': \"D:20210129051422+05'30'\", 'page': 6, 'producer': 'Adobe PDF Library 10.0.1', 'source': '/Users/satishsilveri/Downloads/echap03_vol1.pdf', 'subject': '', 'title': '', 'total_pages': 37, 'trapped': ''}),\n",
       " Document(page_content='107 does indias sovereign credit rating reflect its fundamentals no!. figure 35: long-term average change in select indicators during and after indias sovereign credit ratings downgrade (1998-2018) (i) sensex return (ii) exchange rate (inr/usd) 9% 2% 0% 2% 4% 6% 8% 10% t-1 0 t+1 change over previous year years (iii) fpi (equity & debt) -67% -759% -289% -114% -1000% -500% 0% 500% 1000% 1500% t-1 0 t+1 change over previous year years fpi-equity fpi-debt note: 0 signifies year of change in credit ratings source: bse, rbi, nsdl and survey calculations', metadata={'author': '', 'chunk_id': 0, 'creationDate': \"D:20210129051414+05'30'\", 'creator': 'Adobe InDesign CS6 (Windows)', 'file_path': '/Users/satishsilveri/Downloads/echap03_vol1.pdf', 'format': 'PDF 1.4', 'keywords': '', 'modDate': \"D:20210129051422+05'30'\", 'page': 23, 'producer': 'Adobe PDF Library 10.0.1', 'source': '/Users/satishsilveri/Downloads/echap03_vol1.pdf', 'subject': '', 'title': '', 'total_pages': 37, 'trapped': ''}),\n",
       " Document(page_content='105 does indias sovereign credit rating reflect its fundamentals no!. the previous month, and recovered to grow at 0.5 per cent over the next six months.. figure 34 (ii) shows that during ratings downgrade, exchange rate (inr/usd), on average, depreciated by around one per cent over the previous month and depreciated by 0.2 per cent over the next six months.. figure 34 (iii) shows that during ratings downgrade, yield on g-sec (5 year), on average, fell by 1.4 per cent over the previous month, and grew at 0.1 per cent over the next six months.. yield on g-sec (10 year), on average, fell by 3.3 per cent over the previous month, and declined by 0.29 per cent over the next six months.. spread (rhs), on average, fell by 22 per cent over the previous month, and grew at one per cent over the next six months.. figure 34: medium-term average change in select indicators during and after indias sovereign credit ratings downgrade (1998-2018) (i) sensex return -3.73% -10% -8% -6% -4% -2% 0% 2% 4% 6% 8% 10% t-6 t-5 t-4 t-3 t-2 t-1 t t+1 t+2 t+3 t+4 t+5 t+6 change over previous month months note: 0 signifies month of change in credit ratings source: bse and survey calculations (ii) exchange rate (inr/usd) 1.3% -0.5% 0.0% 0.5% 1.0% 1.5% 2.0% 2.5% t-6 t-5 t-4 t-3 t-2 t-1 t t+1 t+2 t+3 t+4 t+5 t+6 change over previous month months note: 0 signifies month of change in credit ratings source: rbi and survey calculations', metadata={'author': '', 'chunk_id': 0, 'creationDate': \"D:20210129051414+05'30'\", 'creator': 'Adobe InDesign CS6 (Windows)', 'file_path': '/Users/satishsilveri/Downloads/echap03_vol1.pdf', 'format': 'PDF 1.4', 'keywords': '', 'modDate': \"D:20210129051422+05'30'\", 'page': 21, 'producer': 'Adobe PDF Library 10.0.1', 'source': '/Users/satishsilveri/Downloads/echap03_vol1.pdf', 'subject': '', 'title': '', 'total_pages': 37, 'trapped': ''})]"
      ]
     },
     "execution_count": 11,
     "metadata": {},
     "output_type": "execute_result"
    }
   ],
   "source": [
    "text_retriever.get_relevant_documents(\"When was India's sovereign credit rating speculative grade?\")"
   ]
  },
  {
   "cell_type": "code",
   "execution_count": 12,
   "id": "08c4609c-ed99-43dd-8505-eddc496b187a",
   "metadata": {
    "tags": []
   },
   "outputs": [],
   "source": [
    "# from langchain_openai import ChatOpenAI\n",
    "# from langchain_core.prompts import ChatPromptTemplate\n",
    "# from langchain.schema import StrOutputParser\n",
    "# from langchain_core.runnables import RunnablePassthrough, RunnableParallel\n",
    "\n",
    "# template = \"\"\"Answer the question based only on the following context:\n",
    "# {context}\n",
    "\n",
    "# Question: {question}\n",
    "# \"\"\"\n",
    "# prompt = ChatPromptTemplate.from_template(template)\n",
    "# model = ChatOpenAI()\n",
    "# output_parser = StrOutputParser()\n",
    "\n",
    "# setup_and_retrieval = RunnableParallel(\n",
    "#     {\"context\": text_retriever, \"question\": RunnablePassthrough()}\n",
    "# )\n",
    "\n",
    "# chain = setup_and_retrieval | prompt | model | output_parser\n",
    "\n",
    "# chain.invoke(\"When was India's sovereign credit rating speculative grade?\")\n"
   ]
  },
  {
   "cell_type": "code",
   "execution_count": 13,
   "id": "32d6a7bf-05c8-4478-983e-c3b05c4c7056",
   "metadata": {
    "tags": []
   },
   "outputs": [
    {
     "data": {
      "application/vnd.jupyter.widget-view+json": {
       "model_id": "bfae226ac6d648a8bb585903b4d70595",
       "version_major": 2,
       "version_minor": 0
      },
      "text/plain": [
       "Loading checkpoint shards:   0%|          | 0/2 [00:00<?, ?it/s]"
      ]
     },
     "metadata": {},
     "output_type": "display_data"
    }
   ],
   "source": [
    "from langchain.llms import HuggingFacePipeline\n",
    "from langchain.prompts import PromptTemplate\n",
    "from langchain.embeddings.huggingface import HuggingFaceEmbeddings\n",
    "from langchain import LLMChain\n",
    "from transformers import AutoModelForCausalLM, AutoTokenizer\n",
    "import transformers\n",
    "\n",
    "device = \"cpu\" # the device to load the model onto\n",
    "\n",
    "model = AutoModelForCausalLM.from_pretrained(\"mistralai/Mistral-7B-Instruct-v0.1\")\n",
    "tokenizer = AutoTokenizer.from_pretrained(\"mistralai/Mistral-7B-Instruct-v0.1\")\n",
    "\n",
    "text_generation_pipeline = transformers.pipeline(\n",
    "    model=model,\n",
    "    tokenizer=tokenizer,\n",
    "    task=\"text-generation\",\n",
    "    temperature=0,\n",
    "    repetition_penalty=1.1,\n",
    "    return_full_text=False,\n",
    "    max_new_tokens=300,\n",
    ")\n",
    "\n",
    "prompt_template = \"\"\"Answer the question based only on the following context:\n",
    "{context}\n",
    "\n",
    "Question: {question}\n",
    "\"\"\"\n",
    "\n",
    "mistral_llm = HuggingFacePipeline(pipeline=text_generation_pipeline)\n",
    "\n",
    "# Create prompt from prompt template \n",
    "prompt = PromptTemplate(\n",
    "    input_variables=[\"context\", \"question\"],\n",
    "    template=prompt_template,\n",
    ")\n",
    "\n",
    "# Create llm chain \n",
    "llm_chain = LLMChain(llm=mistral_llm, prompt=prompt)"
   ]
  },
  {
   "cell_type": "code",
   "execution_count": 14,
   "id": "34aafc5b-b87f-4d1a-a953-4293acbad3b1",
   "metadata": {},
   "outputs": [
    {
     "name": "stderr",
     "output_type": "stream",
     "text": [
      "/Users/satishsilveri/anaconda3/lib/python3.11/site-packages/transformers/generation/configuration_utils.py:406: UserWarning: `do_sample` is set to `False`. However, `temperature` is set to `0` -- this flag is only used in sample-based generation modes. You should set `do_sample=True` or unset `temperature`.\n",
      "  warnings.warn(\n",
      "Setting `pad_token_id` to `eos_token_id`:2 for open-end generation.\n"
     ]
    },
    {
     "data": {
      "text/plain": [
       "{'context': [Document(page_content='87 does indias sovereign credit rating reflect its fundamentals no!. table 1: indias sovereign credit rating (1998-2020) date s&p moodys fitch june 1998 ba2* october 1998 bb* march 2000 bb+* november 2001 bb* february 2003 ba1* january 2004 bb+* january 2004 baa3 february 2005 bb+* august 2006 bbb- january 2007 bbb- november 2017 baa2 june 2020 baa3 *speculative grade; green highlights ratings upgrade; red highlights ratings downgrade, black indicates first rating source: compiled from s&p global, fitch and moodys box 1: what are sovereign credit ratings?. sovereign credit ratings seek to quantify issuers ability to meet debt obligations.. when favourable, these can facilitate countries access to global capital markets and foreign investment.. table below presents what three key cras s&p, moodys and fitch, seek to measure.. what credit ratings measure fitch \"credit ratings express risk in relative rank order, which is to say they are ordinal measures of credit risk and are not predictive of a specific frequency of default or loss.. fitch ratings\\' credit ratings do not directly address any risk other than credit risk, ratings do not deal with the risk of a market value loss on a rated security due to changes in interest rates, liquidity and other market considerations.\". moody\\'s \"there is an expectation that rating will, on average, relate to subsequent default frequency, although they typically are not defined as precise default rate estimates.. moody\\'s ratings are therefore intended to convey opinions of the relative creditworthiness of issues and obligations...moody\\'s rating process also involves forming views about the likelihood of plausible scenarios, or outcomesnot forecasting them, but instead placing some weight on their likely occurrence and on the potential credit consequences.. normal fluctuations in economic activity are generally included in these scenarios, and by incorporating our views about the likehood of such scenarios, we give our ratings relative stability over economic cycles and a sense of horizon.\". standard & poor\\'s \"standard & poor\\'s credit ratings are designed primarily to provide relative rankings among issues and obligations of overall creditworthiness; the ratings are not measures of absolute default probability.. creditworthiness encompasses likehood of default and also includes payment priority, recovery, and credit stability.\". source: imf (2010)', metadata={'author': '', 'chunk_id': 0, 'creationDate': \"D:20210129051414+05'30'\", 'creator': 'Adobe InDesign CS6 (Windows)', 'file_path': '/Users/satishsilveri/Downloads/echap03_vol1.pdf', 'format': 'PDF 1.4', 'keywords': '', 'modDate': \"D:20210129051422+05'30'\", 'page': 3, 'producer': 'Adobe PDF Library 10.0.1', 'source': '/Users/satishsilveri/Downloads/echap03_vol1.pdf', 'subject': '', 'title': '', 'total_pages': 37, 'trapped': ''}),\n",
       "  Document(page_content='113 does indias sovereign credit rating reflect its fundamentals no!. figure 40: indias consumer price inflation (annual per cent change) and sovereign credit rating changes 13.1% 4.3% 4.0% 3.9% 3.8% 6.7% 3.6% 0% 2% 4% 6% 8% 10% 12% 14% 1998-99 1999-00 2000-01 2001-02 2002-03 2003-04 2004-05 2005-06 2006-07 2007-08 2008-09 2009-10 2010-11 2011-12 2012-13 2013-14 2014-15 2015-16 2016-17 2017-18 2018-19 2019-20 cpi annual (% change) note: red signifies year of rating downgrade.. green signifies year of rating upgrade.. source: rbi and imf figure 41: indias current account deficit (as per cent of gdp) and sovereign credit rating changes 1.0% -0.7% -1.2% -2.3% 0.3% 1.0% 1.8% -3% -2% -1% 0% 1% 2% 3% 4% 5% 1998-99 1999-00 2000-01 2001-02 2002-03 2003-04 2004-05 2005-06 2006-07 2007-08 2008-09 2009-10 2010-11 2011-12 2012-13 2013-14 2014-15 2015-16 2016-17 2017-18 2018-19 2019-20 current account defict (% of gdp) note: red signifies year of rating downgrade.. green signifies year of rating upgrade.. source: rbi 3.51 figure 41 shows indias current account deficit (as per cent of gdp) in relation to sovereign credit ratings changes during the period 1998-20.. the pattern of correlation between sovereign credit rating changes and current account deficit is not clear.. 3.52 figure 42 shows the average change in annual performance of these macroeconomic indicators (gdp growth, fiscal deficit, general government debt, overall debt, inflation and current account deficit) before, during and after a sovereign credit ratings change.. it may be seen that during years of indias sovereign credit rating changes, the average performance of macroeconomic indicators was better than or similar to the previous year.. the average performance of macroeconomic indicators further improved or was similar in the year after the sovereign credit rating change.', metadata={'author': '', 'chunk_id': 0, 'creationDate': \"D:20210129051414+05'30'\", 'creator': 'Adobe InDesign CS6 (Windows)', 'file_path': '/Users/satishsilveri/Downloads/echap03_vol1.pdf', 'format': 'PDF 1.4', 'keywords': '', 'modDate': \"D:20210129051422+05'30'\", 'page': 29, 'producer': 'Adobe PDF Library 10.0.1', 'source': '/Users/satishsilveri/Downloads/echap03_vol1.pdf', 'subject': '', 'title': '', 'total_pages': 37, 'trapped': ''}),\n",
       "  Document(page_content='90 economic survey 2020-21 volume 1 figure 4: indias gdp growth annual (per cent) (1990-2020) source: mospi and rbi does indias sovereign credit rating reflect its fundamentals?. no!. 3.5 there is a large academic literature that highlights bias and subjectivity in sovereign credit ratings, especially against countries with lower ratings (see box 2 for a select literature review).. do the fundamentals that supposedly drive sovereign credit ratings rationalise this historical anomaly of indias low ratings?. in this chapter, the survey asks this important question and answers a resounding no!. box 2: select literature on bias and subjectivity in sovereign credit ratings ferri, liu, and stiglitz (1999) suggested that cras aggravated the east asian crisis by first failing to predict its emergence and thereafter becoming excessively conservative.. cras downgraded east asian crisis countries more than what would have been justified by these countries worsening economic fundamentals.. this adversely affected the supply of international capital to these countries.. ferri, liu, and stiglitz (1999) also proposed an endogenous rationale for cras becoming excessively conservative after making errors in predicting the crisis that of recovering from the damage caused by these errors and rebuilding their own reputation.. reinhart (2002) found evidence of procyclicality in ratings through her study of 62 economies over the period 1979-1999.. she observed that sovereign credit ratings tend to be reactive, especially for emerging market economies, with significantly higher probability of downgrade as well as higher size of downgrade as compared to developed economies.. kaminsky and schmukler (2002) also found evidence of procyclicality of credit ratings and that rating agencies may be contributing to financial market instability in emerging economies.. they observed that rating upgrades take place after market rallies while downgrades take place after downturns.. further, they suggested that even if rating agencies do not behave procyclically, their announcements may still trigger market jitters because many institutional investors can hold only investment-grade instruments.. downgrading (or upgrading) sovereign debt below (or above) investment grade may thus', metadata={'author': '', 'chunk_id': 0, 'creationDate': \"D:20210129051414+05'30'\", 'creator': 'Adobe InDesign CS6 (Windows)', 'file_path': '/Users/satishsilveri/Downloads/echap03_vol1.pdf', 'format': 'PDF 1.4', 'keywords': '', 'modDate': \"D:20210129051422+05'30'\", 'page': 6, 'producer': 'Adobe PDF Library 10.0.1', 'source': '/Users/satishsilveri/Downloads/echap03_vol1.pdf', 'subject': '', 'title': '', 'total_pages': 37, 'trapped': ''}),\n",
       "  Document(page_content='107 does indias sovereign credit rating reflect its fundamentals no!. figure 35: long-term average change in select indicators during and after indias sovereign credit ratings downgrade (1998-2018) (i) sensex return (ii) exchange rate (inr/usd) 9% 2% 0% 2% 4% 6% 8% 10% t-1 0 t+1 change over previous year years (iii) fpi (equity & debt) -67% -759% -289% -114% -1000% -500% 0% 500% 1000% 1500% t-1 0 t+1 change over previous year years fpi-equity fpi-debt note: 0 signifies year of change in credit ratings source: bse, rbi, nsdl and survey calculations', metadata={'author': '', 'chunk_id': 0, 'creationDate': \"D:20210129051414+05'30'\", 'creator': 'Adobe InDesign CS6 (Windows)', 'file_path': '/Users/satishsilveri/Downloads/echap03_vol1.pdf', 'format': 'PDF 1.4', 'keywords': '', 'modDate': \"D:20210129051422+05'30'\", 'page': 23, 'producer': 'Adobe PDF Library 10.0.1', 'source': '/Users/satishsilveri/Downloads/echap03_vol1.pdf', 'subject': '', 'title': '', 'total_pages': 37, 'trapped': ''}),\n",
       "  Document(page_content='105 does indias sovereign credit rating reflect its fundamentals no!. the previous month, and recovered to grow at 0.5 per cent over the next six months.. figure 34 (ii) shows that during ratings downgrade, exchange rate (inr/usd), on average, depreciated by around one per cent over the previous month and depreciated by 0.2 per cent over the next six months.. figure 34 (iii) shows that during ratings downgrade, yield on g-sec (5 year), on average, fell by 1.4 per cent over the previous month, and grew at 0.1 per cent over the next six months.. yield on g-sec (10 year), on average, fell by 3.3 per cent over the previous month, and declined by 0.29 per cent over the next six months.. spread (rhs), on average, fell by 22 per cent over the previous month, and grew at one per cent over the next six months.. figure 34: medium-term average change in select indicators during and after indias sovereign credit ratings downgrade (1998-2018) (i) sensex return -3.73% -10% -8% -6% -4% -2% 0% 2% 4% 6% 8% 10% t-6 t-5 t-4 t-3 t-2 t-1 t t+1 t+2 t+3 t+4 t+5 t+6 change over previous month months note: 0 signifies month of change in credit ratings source: bse and survey calculations (ii) exchange rate (inr/usd) 1.3% -0.5% 0.0% 0.5% 1.0% 1.5% 2.0% 2.5% t-6 t-5 t-4 t-3 t-2 t-1 t t+1 t+2 t+3 t+4 t+5 t+6 change over previous month months note: 0 signifies month of change in credit ratings source: rbi and survey calculations', metadata={'author': '', 'chunk_id': 0, 'creationDate': \"D:20210129051414+05'30'\", 'creator': 'Adobe InDesign CS6 (Windows)', 'file_path': '/Users/satishsilveri/Downloads/echap03_vol1.pdf', 'format': 'PDF 1.4', 'keywords': '', 'modDate': \"D:20210129051422+05'30'\", 'page': 21, 'producer': 'Adobe PDF Library 10.0.1', 'source': '/Users/satishsilveri/Downloads/echap03_vol1.pdf', 'subject': '', 'title': '', 'total_pages': 37, 'trapped': ''})],\n",
       " 'question': \"When was India's sovereign credit rating speculative grade?\",\n",
       " 'text': '\\nAnswer: June 1998'}"
      ]
     },
     "execution_count": 14,
     "metadata": {},
     "output_type": "execute_result"
    }
   ],
   "source": [
    "from langchain_core.runnables import RunnablePassthrough\n",
    "\n",
    "query = \"When was India's sovereign credit rating speculative grade?\" \n",
    "\n",
    "rag_chain = ( \n",
    " {\"context\": text_retriever, \"question\": RunnablePassthrough()}\n",
    "    | llm_chain\n",
    ")\n",
    "\n",
    "rag_chain.invoke(query)"
   ]
  }
 ],
 "metadata": {
  "kernelspec": {
   "display_name": "Python 3 (ipykernel)",
   "language": "python",
   "name": "python3"
  },
  "language_info": {
   "codemirror_mode": {
    "name": "ipython",
    "version": 3
   },
   "file_extension": ".py",
   "mimetype": "text/x-python",
   "name": "python",
   "nbconvert_exporter": "python",
   "pygments_lexer": "ipython3",
   "version": "3.11.5"
  }
 },
 "nbformat": 4,
 "nbformat_minor": 5
}
