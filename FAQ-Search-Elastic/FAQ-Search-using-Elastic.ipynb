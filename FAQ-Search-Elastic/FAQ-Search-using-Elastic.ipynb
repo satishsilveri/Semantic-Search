{
 "cells": [
  {
   "cell_type": "markdown",
   "id": "58277529",
   "metadata": {},
   "source": [
    "## Read Data"
   ]
  },
  {
   "cell_type": "code",
   "execution_count": 1,
   "id": "bb4f8828",
   "metadata": {},
   "outputs": [],
   "source": [
    "import pandas as pd\n",
    "data = pd.read_csv('Mental_Health_FAQ.csv')"
   ]
  },
  {
   "cell_type": "code",
   "execution_count": 2,
   "id": "123ef94e",
   "metadata": {},
   "outputs": [
    {
     "data": {
      "text/html": [
       "<div>\n",
       "<style scoped>\n",
       "    .dataframe tbody tr th:only-of-type {\n",
       "        vertical-align: middle;\n",
       "    }\n",
       "\n",
       "    .dataframe tbody tr th {\n",
       "        vertical-align: top;\n",
       "    }\n",
       "\n",
       "    .dataframe thead th {\n",
       "        text-align: right;\n",
       "    }\n",
       "</style>\n",
       "<table border=\"1\" class=\"dataframe\">\n",
       "  <thead>\n",
       "    <tr style=\"text-align: right;\">\n",
       "      <th></th>\n",
       "      <th>Question_ID</th>\n",
       "      <th>Questions</th>\n",
       "      <th>Answers</th>\n",
       "    </tr>\n",
       "  </thead>\n",
       "  <tbody>\n",
       "    <tr>\n",
       "      <th>0</th>\n",
       "      <td>1590140</td>\n",
       "      <td>What does it mean to have a mental illness?</td>\n",
       "      <td>Mental illnesses are health conditions that di...</td>\n",
       "    </tr>\n",
       "    <tr>\n",
       "      <th>1</th>\n",
       "      <td>2110618</td>\n",
       "      <td>Who does mental illness affect?</td>\n",
       "      <td>It is estimated that mental illness affects 1 ...</td>\n",
       "    </tr>\n",
       "    <tr>\n",
       "      <th>2</th>\n",
       "      <td>6361820</td>\n",
       "      <td>What causes mental illness?</td>\n",
       "      <td>It is estimated that mental illness affects 1 ...</td>\n",
       "    </tr>\n",
       "    <tr>\n",
       "      <th>3</th>\n",
       "      <td>9434130</td>\n",
       "      <td>What are some of the warning signs of mental i...</td>\n",
       "      <td>Symptoms of mental health disorders vary depen...</td>\n",
       "    </tr>\n",
       "    <tr>\n",
       "      <th>4</th>\n",
       "      <td>7657263</td>\n",
       "      <td>Can people with mental illness recover?</td>\n",
       "      <td>When healing from mental illness, early identi...</td>\n",
       "    </tr>\n",
       "    <tr>\n",
       "      <th>...</th>\n",
       "      <td>...</td>\n",
       "      <td>...</td>\n",
       "      <td>...</td>\n",
       "    </tr>\n",
       "    <tr>\n",
       "      <th>93</th>\n",
       "      <td>4373204</td>\n",
       "      <td>How do I know if I'm drinking too much?</td>\n",
       "      <td>Sorting out if you are drinking too much can b...</td>\n",
       "    </tr>\n",
       "    <tr>\n",
       "      <th>94</th>\n",
       "      <td>7807643</td>\n",
       "      <td>If cannabis is dangerous, why are we legalizin...</td>\n",
       "      <td>Cannabis smoke, for example, contains cancer-c...</td>\n",
       "    </tr>\n",
       "    <tr>\n",
       "      <th>95</th>\n",
       "      <td>4352464</td>\n",
       "      <td>How can I convince my kids not to use drugs?</td>\n",
       "      <td>You can't. But you can influence their capacit...</td>\n",
       "    </tr>\n",
       "    <tr>\n",
       "      <th>96</th>\n",
       "      <td>6521784</td>\n",
       "      <td>What is the legal status (and evidence) of CBD...</td>\n",
       "      <td>Cannabidiol or CBD is a naturally occurring co...</td>\n",
       "    </tr>\n",
       "    <tr>\n",
       "      <th>97</th>\n",
       "      <td>3221856</td>\n",
       "      <td>What is the evidence on vaping?</td>\n",
       "      <td>\"Vaping\" is the term for using a device where ...</td>\n",
       "    </tr>\n",
       "  </tbody>\n",
       "</table>\n",
       "<p>98 rows × 3 columns</p>\n",
       "</div>"
      ],
      "text/plain": [
       "    Question_ID                                          Questions  \\\n",
       "0       1590140        What does it mean to have a mental illness?   \n",
       "1       2110618                    Who does mental illness affect?   \n",
       "2       6361820                        What causes mental illness?   \n",
       "3       9434130  What are some of the warning signs of mental i...   \n",
       "4       7657263            Can people with mental illness recover?   \n",
       "..          ...                                                ...   \n",
       "93      4373204            How do I know if I'm drinking too much?   \n",
       "94      7807643  If cannabis is dangerous, why are we legalizin...   \n",
       "95      4352464       How can I convince my kids not to use drugs?   \n",
       "96      6521784  What is the legal status (and evidence) of CBD...   \n",
       "97      3221856                    What is the evidence on vaping?   \n",
       "\n",
       "                                              Answers  \n",
       "0   Mental illnesses are health conditions that di...  \n",
       "1   It is estimated that mental illness affects 1 ...  \n",
       "2   It is estimated that mental illness affects 1 ...  \n",
       "3   Symptoms of mental health disorders vary depen...  \n",
       "4   When healing from mental illness, early identi...  \n",
       "..                                                ...  \n",
       "93  Sorting out if you are drinking too much can b...  \n",
       "94  Cannabis smoke, for example, contains cancer-c...  \n",
       "95  You can't. But you can influence their capacit...  \n",
       "96  Cannabidiol or CBD is a naturally occurring co...  \n",
       "97  \"Vaping\" is the term for using a device where ...  \n",
       "\n",
       "[98 rows x 3 columns]"
      ]
     },
     "execution_count": 2,
     "metadata": {},
     "output_type": "execute_result"
    }
   ],
   "source": [
    "data"
   ]
  },
  {
   "cell_type": "markdown",
   "id": "04e7aea0",
   "metadata": {},
   "source": [
    "## Generate Embeddings"
   ]
  },
  {
   "cell_type": "code",
   "execution_count": 3,
   "id": "b253c190",
   "metadata": {},
   "outputs": [
    {
     "name": "stdout",
     "output_type": "stream",
     "text": [
      "Requirement already satisfied: sentence-transformers in ./anaconda3/lib/python3.11/site-packages (2.2.2)\n",
      "Requirement already satisfied: transformers<5.0.0,>=4.6.0 in ./anaconda3/lib/python3.11/site-packages (from sentence-transformers) (4.32.1)\n",
      "Requirement already satisfied: tqdm in ./anaconda3/lib/python3.11/site-packages (from sentence-transformers) (4.65.0)\n",
      "Requirement already satisfied: torch>=1.6.0 in ./anaconda3/lib/python3.11/site-packages (from sentence-transformers) (2.0.1)\n",
      "Requirement already satisfied: torchvision in ./anaconda3/lib/python3.11/site-packages (from sentence-transformers) (0.15.2)\n",
      "Requirement already satisfied: numpy in ./anaconda3/lib/python3.11/site-packages (from sentence-transformers) (1.23.2)\n",
      "Requirement already satisfied: scikit-learn in ./anaconda3/lib/python3.11/site-packages (from sentence-transformers) (1.3.0)\n",
      "Requirement already satisfied: scipy in ./anaconda3/lib/python3.11/site-packages (from sentence-transformers) (1.11.1)\n",
      "Requirement already satisfied: nltk in ./anaconda3/lib/python3.11/site-packages (from sentence-transformers) (3.8.1)\n",
      "Requirement already satisfied: sentencepiece in ./anaconda3/lib/python3.11/site-packages (from sentence-transformers) (0.1.99)\n",
      "Requirement already satisfied: huggingface-hub>=0.4.0 in ./anaconda3/lib/python3.11/site-packages (from sentence-transformers) (0.15.1)\n",
      "Requirement already satisfied: filelock in ./anaconda3/lib/python3.11/site-packages (from huggingface-hub>=0.4.0->sentence-transformers) (3.9.0)\n",
      "Requirement already satisfied: fsspec in ./anaconda3/lib/python3.11/site-packages (from huggingface-hub>=0.4.0->sentence-transformers) (2023.4.0)\n",
      "Requirement already satisfied: requests in ./anaconda3/lib/python3.11/site-packages (from huggingface-hub>=0.4.0->sentence-transformers) (2.31.0)\n",
      "Requirement already satisfied: pyyaml>=5.1 in ./anaconda3/lib/python3.11/site-packages (from huggingface-hub>=0.4.0->sentence-transformers) (6.0)\n",
      "Requirement already satisfied: typing-extensions>=3.7.4.3 in ./anaconda3/lib/python3.11/site-packages (from huggingface-hub>=0.4.0->sentence-transformers) (4.7.1)\n",
      "Requirement already satisfied: packaging>=20.9 in ./anaconda3/lib/python3.11/site-packages (from huggingface-hub>=0.4.0->sentence-transformers) (23.1)\n",
      "Requirement already satisfied: sympy in ./anaconda3/lib/python3.11/site-packages (from torch>=1.6.0->sentence-transformers) (1.11.1)\n",
      "Requirement already satisfied: networkx in ./anaconda3/lib/python3.11/site-packages (from torch>=1.6.0->sentence-transformers) (3.1)\n",
      "Requirement already satisfied: jinja2 in ./anaconda3/lib/python3.11/site-packages (from torch>=1.6.0->sentence-transformers) (3.1.2)\n",
      "Requirement already satisfied: regex!=2019.12.17 in ./anaconda3/lib/python3.11/site-packages (from transformers<5.0.0,>=4.6.0->sentence-transformers) (2022.7.9)\n",
      "Requirement already satisfied: tokenizers!=0.11.3,<0.14,>=0.11.1 in ./anaconda3/lib/python3.11/site-packages (from transformers<5.0.0,>=4.6.0->sentence-transformers) (0.13.2)\n",
      "Requirement already satisfied: safetensors>=0.3.1 in ./anaconda3/lib/python3.11/site-packages (from transformers<5.0.0,>=4.6.0->sentence-transformers) (0.3.2)\n",
      "Requirement already satisfied: click in ./anaconda3/lib/python3.11/site-packages (from nltk->sentence-transformers) (8.0.4)\n",
      "Requirement already satisfied: joblib in ./anaconda3/lib/python3.11/site-packages (from nltk->sentence-transformers) (1.2.0)\n",
      "Requirement already satisfied: threadpoolctl>=2.0.0 in ./anaconda3/lib/python3.11/site-packages (from scikit-learn->sentence-transformers) (2.2.0)\n",
      "Requirement already satisfied: pillow!=8.3.*,>=5.3.0 in ./anaconda3/lib/python3.11/site-packages (from torchvision->sentence-transformers) (9.4.0)\n",
      "Requirement already satisfied: MarkupSafe>=2.0 in ./anaconda3/lib/python3.11/site-packages (from jinja2->torch>=1.6.0->sentence-transformers) (2.1.1)\n",
      "Requirement already satisfied: charset-normalizer<4,>=2 in ./anaconda3/lib/python3.11/site-packages (from requests->huggingface-hub>=0.4.0->sentence-transformers) (2.0.4)\n",
      "Requirement already satisfied: idna<4,>=2.5 in ./anaconda3/lib/python3.11/site-packages (from requests->huggingface-hub>=0.4.0->sentence-transformers) (3.4)\n",
      "Requirement already satisfied: urllib3<3,>=1.21.1 in ./anaconda3/lib/python3.11/site-packages (from requests->huggingface-hub>=0.4.0->sentence-transformers) (1.26.16)\n",
      "Requirement already satisfied: certifi>=2017.4.17 in ./anaconda3/lib/python3.11/site-packages (from requests->huggingface-hub>=0.4.0->sentence-transformers) (2023.7.22)\n",
      "Requirement already satisfied: mpmath>=0.19 in ./anaconda3/lib/python3.11/site-packages (from sympy->torch>=1.6.0->sentence-transformers) (1.3.0)\n"
     ]
    }
   ],
   "source": [
    "!pip install -U sentence-transformers"
   ]
  },
  {
   "cell_type": "code",
   "execution_count": 4,
   "id": "35ba67b2",
   "metadata": {},
   "outputs": [],
   "source": [
    "from sentence_transformers import SentenceTransformer\n",
    "question_emb_model = SentenceTransformer('thenlper/gte-base')\n",
    "\n",
    "data['question_emb'] = data['Questions'].apply(lambda x: question_emb_model.encode(x, normalize_embeddings=True))"
   ]
  },
  {
   "cell_type": "code",
   "execution_count": 5,
   "id": "cb0bb6ce",
   "metadata": {},
   "outputs": [],
   "source": [
    "answer_emb_model = SentenceTransformer('BAAI/bge-large-en-v1.5')\n",
    "\n",
    "data['answer_emb'] = data['Answers'].apply(lambda x: answer_emb_model.encode(x, normalize_embeddings=True))"
   ]
  },
  {
   "cell_type": "markdown",
   "id": "043ab249",
   "metadata": {},
   "source": [
    "## Index documents"
   ]
  },
  {
   "cell_type": "code",
   "execution_count": 6,
   "id": "36019ed8",
   "metadata": {},
   "outputs": [
    {
     "name": "stdout",
     "output_type": "stream",
     "text": [
      "huggingface/tokenizers: The current process just got forked, after parallelism has already been used. Disabling parallelism to avoid deadlocks...\n",
      "To disable this warning, you can either:\n",
      "\t- Avoid using `tokenizers` before the fork if possible\n",
      "\t- Explicitly set the environment variable TOKENIZERS_PARALLELISM=(true | false)\n",
      "Requirement already satisfied: elasticsearch in ./anaconda3/lib/python3.11/site-packages (8.10.0)\n",
      "Requirement already satisfied: elastic-transport<9,>=8 in ./anaconda3/lib/python3.11/site-packages (from elasticsearch) (8.4.1)\n",
      "Requirement already satisfied: urllib3<2,>=1.26.2 in ./anaconda3/lib/python3.11/site-packages (from elastic-transport<9,>=8->elasticsearch) (1.26.16)\n",
      "Requirement already satisfied: certifi in ./anaconda3/lib/python3.11/site-packages (from elastic-transport<9,>=8->elasticsearch) (2023.7.22)\n"
     ]
    }
   ],
   "source": [
    "!pip install elasticsearch"
   ]
  },
  {
   "cell_type": "code",
   "execution_count": 7,
   "id": "984f5b30",
   "metadata": {},
   "outputs": [
    {
     "name": "stderr",
     "output_type": "stream",
     "text": [
      "/var/folders/lh/34smdgg56t14_z7s36pq8j9r0000gn/T/ipykernel_65846/521257191.py:6: DeprecationWarning: The 'http_auth' parameter is deprecated. Use 'basic_auth' or 'bearer_auth' parameters instead\n",
      "  es = Elasticsearch('https://localhost:9200',\n"
     ]
    }
   ],
   "source": [
    "from elasticsearch import Elasticsearch\n",
    "\n",
    "from ssl import create_default_context\n",
    "\n",
    "context = create_default_context(cafile=r\"/Users/satishsilveri/Desktop/certs/http_ca.crt\")\n",
    "es = Elasticsearch('https://localhost:9200',\n",
    "    http_auth=('elastic', 'UorBHSXM5aoBabDwbi0P'),\n",
    "    ssl_context=context,\n",
    ")"
   ]
  },
  {
   "cell_type": "code",
   "execution_count": 9,
   "id": "788f1ac2",
   "metadata": {},
   "outputs": [
    {
     "data": {
      "text/plain": [
       "<Elasticsearch(['https://localhost:9200'])>"
      ]
     },
     "execution_count": 9,
     "metadata": {},
     "output_type": "execute_result"
    }
   ],
   "source": [
    "es"
   ]
  },
  {
   "cell_type": "code",
   "execution_count": 8,
   "id": "6dca4458",
   "metadata": {},
   "outputs": [],
   "source": [
    "index_name=\"faq-index\"\n",
    "def generate_docs():\n",
    "    for index, row in data.iterrows():\n",
    "        doc = {\n",
    "                \"_index\": index_name,\n",
    "                \"_source\": {\n",
    "                    \"faq_id\":row['Question_ID'],\n",
    "                    \"question\":row['Questions'],\n",
    "                    \"answer\":row['Answers'],\n",
    "                    \"question_emb\": row['question_emb'],\n",
    "                    \"answer_emb\": row['answer_emb']\n",
    "                },\n",
    "            }\n",
    "\n",
    "        yield doc"
   ]
  },
  {
   "cell_type": "code",
   "execution_count": 10,
   "id": "67d77011",
   "metadata": {},
   "outputs": [
    {
     "data": {
      "text/plain": [
       "ObjectApiResponse({'took': 367, 'timed_out': False, 'total': 882, 'deleted': 882, 'batches': 1, 'version_conflicts': 0, 'noops': 0, 'retries': {'bulk': 0, 'search': 0}, 'throttled_millis': 0, 'requests_per_second': -1.0, 'throttled_until_millis': 0, 'failures': []})"
      ]
     },
     "execution_count": 10,
     "metadata": {},
     "output_type": "execute_result"
    }
   ],
   "source": [
    "es.delete_by_query(index=index_name, query={\"match_all\":{}})"
   ]
  },
  {
   "cell_type": "code",
   "execution_count": 11,
   "id": "b337791e",
   "metadata": {},
   "outputs": [
    {
     "name": "stderr",
     "output_type": "stream",
     "text": [
      "  1%|▍                                         | 1/98 [00:00<00:54,  1.77docs/s]"
     ]
    },
    {
     "name": "stdout",
     "output_type": "stream",
     "text": [
      "Indexed 98/98 documents\n"
     ]
    }
   ],
   "source": [
    "import tqdm\n",
    "from elasticsearch.helpers import streaming_bulk\n",
    "number_of_docs=len(data)\n",
    "progress = tqdm.tqdm(unit=\"docs\", total=number_of_docs)\n",
    "successes = 0\n",
    "for ok, action in streaming_bulk(client=es, index=index_name, actions=generate_docs()):\n",
    "    progress.update(1)\n",
    "    successes += ok\n",
    "\n",
    "print(\"Indexed %d/%d documents\" % (successes, number_of_docs))"
   ]
  },
  {
   "cell_type": "code",
   "execution_count": 12,
   "id": "8d10f52c",
   "metadata": {},
   "outputs": [],
   "source": [
    "def faq_search(query=\"\"):\n",
    "    \n",
    "    if query is not None and len(query) == 0:\n",
    "        print('Query cannot be empty')\n",
    "        return None\n",
    "    else:\n",
    "        query_question_emb = question_emb_model.encode(query, normalize_embeddings=True)\n",
    "\n",
    "        instruction=\"Represent this sentence for searching relevant passages: \"\n",
    "\n",
    "        query_answer_emb = answer_emb_model.encode(instruction + query, normalize_embeddings=True)\n",
    "\n",
    "        payload = {\n",
    "          \"query\": {\n",
    "            \"match\": {\n",
    "              \"title\": {\n",
    "                \"query\": query,\n",
    "                \"boost\": 0.3\n",
    "              }\n",
    "            }\n",
    "          },\n",
    "          \"knn\": [ {\n",
    "            \"field\": \"question_emb\",\n",
    "            \"query_vector\": query_question_emb,\n",
    "            \"k\": 5,\n",
    "            \"num_candidates\": 50,\n",
    "            \"boost\": 0.3\n",
    "          },\n",
    "          {\n",
    "            \"field\": \"answer_emb\",\n",
    "            \"query_vector\": query_answer_emb,\n",
    "            \"k\": 10,\n",
    "            \"num_candidates\": 10,\n",
    "            \"boost\": 0.5\n",
    "          }],\n",
    "          \"size\": 10,\n",
    "          \"_source\":[\"faq_id\",\"question\", \"answer\"]\n",
    "        }\n",
    "\n",
    "        response = es.search(index=index_name, body=payload)['hits']['hits']\n",
    "\n",
    "        return response"
   ]
  },
  {
   "cell_type": "code",
   "execution_count": 13,
   "id": "31575ed0",
   "metadata": {},
   "outputs": [
    {
     "name": "stderr",
     "output_type": "stream",
     "text": [
      "/var/folders/lh/34smdgg56t14_z7s36pq8j9r0000gn/T/ipykernel_65846/2389730932.py:40: DeprecationWarning: The 'body' parameter is deprecated and will be removed in a future version. Instead use individual parameters.\n",
      "  response = es.search(index=index_name, body=payload)['hits']['hits']\n"
     ]
    },
    {
     "data": {
      "text/plain": [
       "[{'_index': 'faq-index',\n",
       "  '_id': '9dfqTosB4gDzD-Xi4p8W',\n",
       "  '_score': 0.70398307,\n",
       "  '_source': {'faq_id': 4283807,\n",
       "   'question': 'What causes mental health problems?',\n",
       "   'answer': 'Challenges or problems with your mental health can arise from psychological, biological, and social, issues, as well as life events.'}},\n",
       " {'_index': 'faq-index',\n",
       "  '_id': 'CdfqTosB4gDzD-Xi4qAW',\n",
       "  '_score': 0.42625695,\n",
       "  '_ignored': ['answer.keyword'],\n",
       "  '_source': {'faq_id': 1833460,\n",
       "   'question': 'Where can older adults find help for mental health concerns?',\n",
       "   'answer': \"Mental health concerns are a serious concern at any age, and everyone deserves help and support. If you’re concerned about your mental health, you can: \\n Talk to your family doctor or go to a walk-in clinic \\n Call the Mental Health Support Line at 310-6789 (no area code) for information about services in your area \\n Find your local mental health centre or program at www.gov.bc.ca/mentalhealth (you may need a doctor’s referral to access some programs) \\n Find your local Canadian Mental Health Association branch at www.cmha.bc.ca and ask for information about local services \\n Contact a local senior’s support organization or group and ask for advice. You can search for organizations at www.bc211.ca \\n For general information about senior’s mental health: \\n Find resources from the Canadian Coalition for Seniors' Mental Health at www.ccsmh.ca \\n Find info sheets in the Seniors and Depression Series at www.heretohelp.bc.ca/factsheet/seniors-and-depression-series \\n If you are concerned about a loved one: \\n Be honest about your concerns, like changes you’ve noticed or problems that have come up \\n Give your loved one a chance to talk about their perspectives. They may have a different take on the problem or have different priorities in their health care \\n Be patient—it will probably take more than one conversation \\n Whenever possible, aim for cooperation. Focus on finding an action or solution that everyone can agree on \\n Remember that asking for help is hard for many of us, and it can be even harder as people’s roles and abilities change. If your loved one isn’t willing to talk about their experiences with you right away, offer alternatives like the BC Mental Health Support Line (310-6789—no area code needed), the Seniors Distress Line (604-872-1234) or a local seniors support organization (search for organizations at www.bc211.ca) \\n Seek support to manage your expectations and your own well-being. It can be very stressful to see a loved one experience health problems. But adults who can care for themselves and aren’t at risk of harm are free to make their own choices—and that includes refusing help\"}},\n",
       " {'_index': 'faq-index',\n",
       "  '_id': '3NfqTosB4gDzD-Xi4p8W',\n",
       "  '_score': 0.42048422,\n",
       "  '_ignored': ['answer.keyword'],\n",
       "  '_source': {'faq_id': 9434130,\n",
       "   'question': 'What are some of the warning signs of mental illness?',\n",
       "   'answer': 'Symptoms of mental health disorders vary depending on the type and severity of the condition. The following is a list of general symptoms that may suggest a mental health disorder, particularly when multiple symptoms are expressed at once.\\nIn adults:\\nConfused thinking\\nLong-lasting sadness or irritability\\nExtreme highs and lows in mood\\nExcessive fear, worrying, or anxiety\\nSocial withdrawal\\nDramatic changes in eating or sleeping habits\\nStrong feelings of anger\\nDelusions or hallucinations (seeing or hearing things that are not really there)\\nIncreasing inability to cope with daily problems and activities\\nThoughts of suicide\\nDenial of obvious problems\\nMany unexplained physical problems\\nAbuse of drugs and/or alcohol\\n  In older children and pre-teens:\\nAbuse of drugs and/or alcohol\\nInability to cope with daily problems and activities\\nChanges in sleeping and/or eating habits\\nExcessive complaints of physical problems\\nDefying authority, skipping school, stealing, or damaging property\\nIntense fear of gaining weight\\nLong-lasting negative mood, often along with poor appetite and thoughts of death\\nFrequent outbursts of anger\\n  In younger children:\\nChanges in school performance\\nPoor grades despite strong efforts\\nExcessive worrying or anxiety\\nHyperactivity\\nPersistent nightmares\\nPersistent disobedience and/or aggressive behavior\\nFrequent temper tantrums'}},\n",
       " {'_index': 'faq-index',\n",
       "  '_id': 'GtfqTosB4gDzD-Xi4qAW',\n",
       "  '_score': 0.4199489,\n",
       "  '_ignored': ['answer.keyword'],\n",
       "  '_source': {'faq_id': 2746837,\n",
       "   'question': 'An adult in my life seems ill and won’t find help. What can I do?',\n",
       "   'answer': 'It’s difficult when an adult child, sibling, parent, friend, co-worker, or other important person is struggling or behaving in ways that are causing harm. This can be a tricky situation—you want to help, but most adults are responsible for their own care. \\n There are two important points to think about. First, diagnosing a health condition, especially when symptom-checking is so easy online, can be dangerous. Diagnosis is still always best left to professionals who can look at the whole picture. Remember, too, that the person you care about may have a very different idea of what’s causing their difficulties and what the negative impacts are on their life. Second, except in rare cases, the person being treated needs to be an active player in their own recovery to continue with their treatment, just as they would for any other health problem. If the vast majority of cases, you cannot do this work entirely for them—and trying to do so may damage your relationship. \\n Be honest about your concerns, the impacts you are seeing that worry you, listen to their point of view and work together to find a solution that works for everyone, even if it means a compromise. You may want to offer to go with them to an appointment, encourage them to do an online screening self-test, or involve someone else close to them who may be similarly concerned and may have more influence in encouraging them to notice changes and seek help. Because you may be feeling frustrated and helpless, it’s important to get care and support for yourself during this time, especially if you’re very close to the person you’re worried about. \\n In serious situations, the BC Mental Health Act allows someone to be held for a period of time for psychiatric assessment without their consent if they are at risk of harming themselves or others. While it’s necessary in some situations to get someone the care they need, it can be traumatic for everyone involved. For more on the BC Mental Health Act, see the Guide to the Mental Health Act.'}},\n",
       " {'_index': 'faq-index',\n",
       "  '_id': 'DNfqTosB4gDzD-Xi4qAW',\n",
       "  '_score': 0.41729674,\n",
       "  '_ignored': ['answer.keyword'],\n",
       "  '_source': {'faq_id': 2009922,\n",
       "   'question': 'I’m having a hard time coping with a physical health problem. Where can I find help?',\n",
       "   'answer': 'Physical health can have a big impact on mental health! Here are some resources to help you cope with the emotional challenges of living with a chronic health problem: \\n Self-Management BC offers free programs for adults of all ages who are experiencing any ongoing physical or mental health issues. Find information and strategies to help manage symptoms and take action toward the best life possible. Family members, friends, and loved ones are welcome to attend. Programs are available in languages other than English, including Chinese and Punjabi. On their website, you learn more about self-management research and find a workshop or telephone-based support program. Visit www.selfmanagementbc.ca or call toll-free 1-866-902-3767. \\n A group of BC psychologists and doctors have created a self-guided workbook called Positive Coping with Health Conditions for anyone who is dealing with a health problem and anyone who supports a loved one that experiences a health problem. The workbook discusses the links between physical health and mental health, and teaches you different skills to help you manage problems and difficult feelings well, get active, and work on healthy relationships. \\n Bounce Back: Reclaim Your Health is a guided self-help program for British Columbians who experience mild to moderate depression, low mood or anxiety. You can get a DVD of tips to help you recognize and manage symptoms of depression, or you can learn more in-depth skills in a series of workbook you complete at home. One of the workbooks, Reclaim Your Health, is focused on living with chronic health conditions. You work with a trained coach from the Canadian Mental Health Association who will offer support and advice by telephone or video conference. Bounce Back is free with a doctor’s referral. For more information, visit www.bouncebackbc.ca. If you want to access the Bounce Back materials without a coach or referral, you can do that online in BC at www.bouncebackonline.ca. \\n Reclaim Your Life: From illness, disability, pain, or fatigue is a booklet from the Canadian Mental Health Association that offers practical tips and strategies to help you cope with a problem and get back to your usual routine. The booklet is available for purchase at www.livinglifetothefull.ca. It is part of a program called Living Life to the Full, an eight-week program that helps people make helpful changes in their lives. It’s offered throughout the province, and you can find course listings on the website as well. \\n Many organizations support people who experience a particular illness or health problem. These organizations can often help people find appropriate support services or may even offer support groups of their own. You can also ask your health care team for recommendations. If you can’t find support in person, you can see if there are any support groups online. \\n If you’re having a hard time coping and feel that you need one-on-one support, a therapist or counsellor can be a great option. You can find more information on finding these professionals at www.heretohelp.bc.ca/ask-us/how-can-i-find-a-doctor-psychiatrist-psychologist-or-counsellor.'}},\n",
       " {'_index': 'faq-index',\n",
       "  '_id': '3tfqTosB4gDzD-Xi4p8W',\n",
       "  '_score': 0.41719648,\n",
       "  '_ignored': ['answer.keyword'],\n",
       "  '_source': {'faq_id': 1619387,\n",
       "   'question': 'What should I do if I know someone who appears to have the symptoms of a mental disorder?',\n",
       "   'answer': \"Although this website cannot substitute for professional advice, we encourage those with symptoms to talk to their friends and family members and seek the counsel of a mental health professional. The sooner the mental health condition is identified and treated, the sooner they can get on the path to recovery.\\nIf you know someone who is having problems, don't assume that the issue will resolve itself. Let them know that you care about them, and that there are treatment options available that will help them heal. Speak with a mental health professional or counselor if you think your friend or family member is experiencing the symptoms of a mental health condition. If the affected loved one knows that you support them, they will be more likely to seek out help.\"}},\n",
       " {'_index': 'faq-index',\n",
       "  '_id': '_tfqTosB4gDzD-Xi4p8W',\n",
       "  '_score': 0.41663367,\n",
       "  '_ignored': ['answer.keyword'],\n",
       "  '_source': {'faq_id': 2884887,\n",
       "   'question': 'How can I take care of my physical health?',\n",
       "   'answer': \"Taking care of your physical health is also good for your mental health. It's more important than ever to keep yourself healthy. \\n Try to eat as well as you can. It may be easier to reach for unhealthier comfort foods and snacks while you spend more time at home, but try to keep a balanced approach. When you stock up on groceries, don’t ignore fresh fruit and vegetables—we still have everything we need to prepare food. Now that we're advised to limit the amount of time we spend in public spaces like grocery stores, this is a great time to try out new fruits and vegetables that keep at home for longer periods of time. \\n If it's safer for you to stay home or you are in self-isolation, reach out for help. Many grocery stores and meal prep services offer safe, no-contact delivery. You can also ask family or friends to bring you groceries, or look for local COVID-19 support groups on social media. It's safest if others leave food and other supplies outside of your door to avoid spreading the virus. \\n Exercise is an important part of mental health and well-being, stress management, and health sleep. However, it's something that many people give up when they start to feel stressed or overwhelmed. \\n If it's safe for you to do so, spend time outside. You should still avoid busy areas or groups and stay at least two metres away from others, but there is no reason to avoid walks, runs, or other safe outdoor activities. (Note that some municipalities, BC Parks, and Parks Canada have restricted some outdoor spaces to reduce crowds, so check the status of your local parks or trails and respect closures—they're just keeping everyone safe.) \\n If you prefer to exercise indoors, you can also find many different exercises classes online. You can try yoga, follow a barre class, work on your cardio, pick up a new dumbbell routine, and keep up with Crossfit WODs from the comfort of your living room. Look for no-equipment exercise routines or classes if you don't already have equipment. \\n Poor sleep can make even simple problems feel a lot worse than they really are. Poor sleep can affect your mood, your outlook, and your patience. Unfortunately, stress and anxiety can really take a toll on your sleep. If you're having a hard time sleeping, be proactive and practice healthy sleep habits. For more, check out Wellness Module 6: Getting a Good Night's Sleep at www.heretohelp.bc.ca/wellness-module/wellness-module-6-getting-a-good-nights-sleep. \\n If you have other health problems like a chronic illness, check in with your doctor or health care team to see if you need to take any additional measures or precautions. Remember to plan ahead and do what you can to keep prescription or over-the-counter medications, medical supplies, supplements, or other health needs on hand.\"}},\n",
       " {'_index': 'faq-index',\n",
       "  '_id': '5dfqTosB4gDzD-Xi4p8W',\n",
       "  '_score': 0.4158259,\n",
       "  '_ignored': ['answer.keyword'],\n",
       "  '_source': {'faq_id': 4197817,\n",
       "   'question': 'Where else can I get help?',\n",
       "   'answer': 'Where you go for help will depend on the nature of the problem and/or symptoms and what best fits you. Often, the best place to start is by talking with someone you trust about your concerns, such as a family member, friend, clergy, healthcare provider, or other professionals. Having this social support is essential in healing from mental illness, and you will be able to ask them for referrals or recommendations for trusted mental health practitioners. Search for mental health resources in your area.\\nSecondly, there are people and places throughout Nebraska that provide services to talk, to listen, and to help you on your journey to recovery. Thirdly, many people find peer support a helpful tool that can aid in their recovery. There are a variety of organizations that offer support groups for consumers, their family members, and friends. Some support groups are peer led while others may be led by a mental health professional.'}},\n",
       " {'_index': 'faq-index',\n",
       "  '_id': 'ItfqTosB4gDzD-Xi4qAW',\n",
       "  '_score': 0.41577268,\n",
       "  '_ignored': ['answer.keyword'],\n",
       "  '_source': {'faq_id': 7995219,\n",
       "   'question': \"What's the difference between mental health and mental illness?\",\n",
       "   'answer': '‘Mental health’ and ‘mental illness’ are increasingly being used as if they mean the same thing, but they do not. Everyone has mental health, just like everyone has health. As the World Health Organization famously says, “There is no health without mental health.” In the course of a lifetime, not all people will experience a mental illness, but everyone will struggle or have a challenge with their mental well-being (i.e., their mental health) just like we all have challenges with our physical well-being from time to time. \\n When we talk about mental health, we’re talking about our mental well-being: our emotions, our thoughts and feelings, our ability to solve problems and overcome difficulties, our social connections, and our understanding of the world around us. \\n A mental illness is an illness the affects that way people think, feel, behave, or interact with others. There are many different mental illnesses, and they have different symptoms that impact peoples’ lives in different ways. \\n Health isn’t like an on/off switch. There are different degrees of health. People move on a continuum ranging from great or good health to so-so health to poor health to illness or disability. For example, some people have good health and have no problems going about their lives. Some people experience serious health problems, and their poor health has a very negative impact on their life. Some people have serious health problems that last for a long time, and others have serious health problems that resolve very quickly. Many people fall somewhere in the middle—they’re generally in good health, though the occasional problem may come up. Mental health is the same way. \\n Just as someone who feels unwell may not have a serious illness, people may have poor mental health without a mental illness. We all have days where we feel a bit down, or stressed out, or overwhelmed by something that’s happening in our lives. An important part of good mental health is the ability to look at problems or concerns realistically. Good mental health isn’t about feeling happy and confident 100% of time and ignoring any problems. It’s about living and coping well despite problems. \\n Just as it’s possible to have poor mental health but no mental illness, it’s entirely possible to have good mental health even with a diagnosis of a mental illness. That’s because mental illnesses (like other health problems) are often episodic, meaning there are times (‘episodes’) of ill health and times of better or good health. \\n With the right supports and tools, anyone can live well—however they define well—and find meaning, contribute to their communities, and work towards their goals.'}},\n",
       " {'_index': 'faq-index',\n",
       "  '_id': 'GNfqTosB4gDzD-Xi4qAW',\n",
       "  '_score': 0.4155483,\n",
       "  '_ignored': ['answer.keyword'],\n",
       "  '_source': {'faq_id': 1043721,\n",
       "   'question': 'I received a diagnosis but I don’t think it’s right. What can I do?',\n",
       "   'answer': 'If possible, bring up your concerns with the professional who provided the diagnosis. That way, the professional can answer your questions and you can better understand their decision. \\n If that doesn’t resolve the situation or a follow-up appointment isn’t possible, you can ask for a second opinion. A second opinion is an assessment from a different professional. This can give you better understanding of what’s going on and what to do about it. Second opinions are common when it comes to major health decisions—you won’t hurt anyone’s feelings and your doctor will try to accommodate reasonable requests for a second opinion. Talk to your family doctor (or go to a walk-in clinic) to discuss your options and get a referral to a different program or health professional, if needed. \\n For more how to get a second opinion, see HealthLinkBC’s factsheet at www.healthlinkbc.ca. \\n For general tips on managing a diagnosis of a mental illness and working well with health care professionals, see HeretoHelp’s Managing a Mental Illness series.'}}]"
      ]
     },
     "execution_count": 13,
     "metadata": {},
     "output_type": "execute_result"
    }
   ],
   "source": [
    "faq_search(query=\"how to check if I have mental health issues?\")"
   ]
  },
  {
   "cell_type": "markdown",
   "id": "b6bd6fcf",
   "metadata": {},
   "source": [
    "## Evaluate the system"
   ]
  },
  {
   "cell_type": "code",
   "execution_count": 14,
   "id": "08682bc4",
   "metadata": {},
   "outputs": [
    {
     "name": "stdout",
     "output_type": "stream",
     "text": [
      "huggingface/tokenizers: The current process just got forked, after parallelism has already been used. Disabling parallelism to avoid deadlocks...\n",
      "To disable this warning, you can either:\n",
      "\t- Avoid using `tokenizers` before the fork if possible\n",
      "\t- Explicitly set the environment variable TOKENIZERS_PARALLELISM=(true | false)\n",
      "Requirement already satisfied: google in ./anaconda3/lib/python3.11/site-packages (3.0.0)\n",
      "Requirement already satisfied: beautifulsoup4 in ./anaconda3/lib/python3.11/site-packages (from google) (4.12.2)\n",
      "Requirement already satisfied: soupsieve>1.2 in ./anaconda3/lib/python3.11/site-packages (from beautifulsoup4->google) (2.4)\n"
     ]
    }
   ],
   "source": [
    "!pip install google"
   ]
  },
  {
   "cell_type": "code",
   "execution_count": 15,
   "id": "82f999fe",
   "metadata": {},
   "outputs": [
    {
     "name": "stdout",
     "output_type": "stream",
     "text": [
      "huggingface/tokenizers: The current process just got forked, after parallelism has already been used. Disabling parallelism to avoid deadlocks...\n",
      "To disable this warning, you can either:\n",
      "\t- Avoid using `tokenizers` before the fork if possible\n",
      "\t- Explicitly set the environment variable TOKENIZERS_PARALLELISM=(true | false)\n",
      "Requirement already satisfied: protobuf in ./anaconda3/lib/python3.11/site-packages (4.24.3)\n"
     ]
    }
   ],
   "source": [
    "!pip install protobuf"
   ]
  },
  {
   "cell_type": "code",
   "execution_count": 16,
   "id": "8880358e",
   "metadata": {},
   "outputs": [
    {
     "name": "stderr",
     "output_type": "stream",
     "text": [
      "The `xla_device` argument has been deprecated in v4.4.0 of Transformers. It is ignored and you can safely remove it from your `config.json` file.\n",
      "The `xla_device` argument has been deprecated in v4.4.0 of Transformers. It is ignored and you can safely remove it from your `config.json` file.\n",
      "You are using the default legacy behaviour of the <class 'transformers.models.t5.tokenization_t5.T5Tokenizer'>. If you see this, DO NOT PANIC! This is expected, and simply means that the `legacy` (previous) behavior will be used so nothing changes for you. If you want to use the new behaviour, set `legacy=True`. This should only be set if you understand what it means, and thouroughly read the reason why this was added as explained in https://github.com/huggingface/transformers/pull/24565\n",
      "The `xla_device` argument has been deprecated in v4.4.0 of Transformers. It is ignored and you can safely remove it from your `config.json` file.\n",
      "/Users/satishsilveri/anaconda3/lib/python3.11/site-packages/transformers/models/auto/modeling_auto.py:1468: FutureWarning: The class `AutoModelWithLMHead` is deprecated and will be removed in a future version. Please use `AutoModelForCausalLM` for causal language models, `AutoModelForMaskedLM` for masked language models and `AutoModelForSeq2SeqLM` for encoder-decoder models.\n",
      "  warnings.warn(\n",
      "The `xla_device` argument has been deprecated in v4.4.0 of Transformers. It is ignored and you can safely remove it from your `config.json` file.\n"
     ]
    },
    {
     "name": "stdout",
     "output_type": "stream",
     "text": [
      "How can I help older adults with mental health issues?\n",
      "Where can I find help for mental health issues?\n",
      "Where can I find mental health help for older adults?\n"
     ]
    }
   ],
   "source": [
    "from transformers import AutoModelWithLMHead, AutoTokenizer\n",
    "\n",
    "tokenizer = AutoTokenizer.from_pretrained(\"mrm8488/t5-small-finetuned-quora-for-paraphrasing\")\n",
    "model = AutoModelWithLMHead.from_pretrained(\"mrm8488/t5-small-finetuned-quora-for-paraphrasing\")\n",
    "\n",
    "def paraphrase(question, number_of_questions=3, max_length=128):\n",
    "    input_ids = tokenizer.encode(question, return_tensors=\"pt\", add_special_tokens=True)\n",
    "\n",
    "    generated_ids = model.generate(input_ids=input_ids, num_return_sequences=number_of_questions, num_beams=5, max_length=max_length, no_repeat_ngram_size=2, repetition_penalty=3.5, length_penalty=1.0, early_stopping=True)\n",
    "\n",
    "    preds = [tokenizer.decode(g, skip_special_tokens=True, clean_up_tokenization_spaces=True) for g in generated_ids]\n",
    "\n",
    "    return preds\n",
    "  \n",
    "preds = paraphrase(\"paraphrase: Where can older adults find help for mental health concerns?\")\n",
    "\n",
    "for pred in preds:\n",
    "    print(pred)"
   ]
  },
  {
   "cell_type": "code",
   "execution_count": 17,
   "id": "72c4d500",
   "metadata": {},
   "outputs": [],
   "source": [
    "temp_data = data[['Question_ID','Questions']]"
   ]
  },
  {
   "cell_type": "code",
   "execution_count": 18,
   "id": "d2c12282",
   "metadata": {},
   "outputs": [],
   "source": [
    "# import torch\n",
    "# from transformers import T5ForConditionalGeneration,T5Tokenizer\n",
    "\n",
    "\n",
    "# def set_seed(seed):\n",
    "#     torch.manual_seed(seed)\n",
    "#     if torch.cuda.is_available():\n",
    "#         torch.cuda.manual_seed_all(seed)\n",
    "\n",
    "# set_seed(42)\n",
    "\n",
    "# model = T5ForConditionalGeneration.from_pretrained('ramsrigouthamg/t5_paraphraser')\n",
    "# tokenizer = T5Tokenizer.from_pretrained('ramsrigouthamg/t5_paraphraser')\n",
    "\n",
    "# device = torch.device(\"cuda\" if torch.cuda.is_available() else \"cpu\")\n",
    "# model = model.to(device)\n",
    "\n",
    "\n",
    "# def paraphrase(query, number_of_questions=4, max_len=256):\n",
    "#     encoding = tokenizer.encode_plus(query,pad_to_max_length=True, return_tensors=\"pt\")\n",
    "#     input_ids, attention_masks = encoding[\"input_ids\"].to(device), encoding[\"attention_mask\"].to(device)\n",
    "\n",
    "\n",
    "#     # set top_k = 50 and set top_p = 0.95 and num_return_sequences = 3\n",
    "#     beam_outputs = model.generate(\n",
    "#         input_ids=input_ids, attention_mask=attention_masks,\n",
    "#         do_sample=True,\n",
    "#         max_length=256,\n",
    "#         top_k=120,\n",
    "#         top_p=0.98,\n",
    "#         early_stopping=True,\n",
    "#         num_return_sequences=number_of_questions\n",
    "#     )\n",
    "\n",
    "#     final_outputs =[]\n",
    "#     for beam_output in beam_outputs:\n",
    "#         sent = tokenizer.decode(beam_output, skip_special_tokens=True,clean_up_tokenization_spaces=True)\n",
    "#         if sent.lower() != query.lower() and sent not in final_outputs:\n",
    "#             final_outputs.append(sent)\n",
    "\n",
    "#     return final_outputs\n"
   ]
  },
  {
   "cell_type": "code",
   "execution_count": 21,
   "id": "dd20ed19",
   "metadata": {},
   "outputs": [],
   "source": [
    "eval_data = []\n",
    "\n",
    "for index, row in temp_data.iterrows():\n",
    "    preds = paraphrase(question = row['Questions'])\n",
    "    \n",
    "    for pred in preds:\n",
    "        temp={}\n",
    "        temp['Question'] = pred\n",
    "        temp['FAQ_ID'] = row['Question_ID']\n",
    "        eval_data.append(temp)\n",
    "    \n",
    "eval_data = pd.DataFrame(eval_data)"
   ]
  },
  {
   "cell_type": "code",
   "execution_count": 22,
   "id": "3e5c039d",
   "metadata": {},
   "outputs": [
    {
     "data": {
      "text/html": [
       "<div>\n",
       "<style scoped>\n",
       "    .dataframe tbody tr th:only-of-type {\n",
       "        vertical-align: middle;\n",
       "    }\n",
       "\n",
       "    .dataframe tbody tr th {\n",
       "        vertical-align: top;\n",
       "    }\n",
       "\n",
       "    .dataframe thead th {\n",
       "        text-align: right;\n",
       "    }\n",
       "</style>\n",
       "<table border=\"1\" class=\"dataframe\">\n",
       "  <thead>\n",
       "    <tr style=\"text-align: right;\">\n",
       "      <th></th>\n",
       "      <th>Question</th>\n",
       "      <th>FAQ_ID</th>\n",
       "    </tr>\n",
       "  </thead>\n",
       "  <tbody>\n",
       "    <tr>\n",
       "      <th>0</th>\n",
       "      <td>What does it mean to have a mental illness?</td>\n",
       "      <td>1590140</td>\n",
       "    </tr>\n",
       "    <tr>\n",
       "      <th>1</th>\n",
       "      <td>What does it mean to have mental illness?</td>\n",
       "      <td>1590140</td>\n",
       "    </tr>\n",
       "    <tr>\n",
       "      <th>2</th>\n",
       "      <td>What is it like to have a mental illness?</td>\n",
       "      <td>1590140</td>\n",
       "    </tr>\n",
       "    <tr>\n",
       "      <th>3</th>\n",
       "      <td>How does mental illness affect?</td>\n",
       "      <td>2110618</td>\n",
       "    </tr>\n",
       "    <tr>\n",
       "      <th>4</th>\n",
       "      <td>How does mental illness affect you?</td>\n",
       "      <td>2110618</td>\n",
       "    </tr>\n",
       "    <tr>\n",
       "      <th>...</th>\n",
       "      <td>...</td>\n",
       "      <td>...</td>\n",
       "    </tr>\n",
       "    <tr>\n",
       "      <th>289</th>\n",
       "      <td>What is legal status of CBD oil?</td>\n",
       "      <td>6521784</td>\n",
       "    </tr>\n",
       "    <tr>\n",
       "      <th>290</th>\n",
       "      <td>What are the legal status of CBD oil?</td>\n",
       "      <td>6521784</td>\n",
       "    </tr>\n",
       "    <tr>\n",
       "      <th>291</th>\n",
       "      <td>What is the evidence of vaping?</td>\n",
       "      <td>3221856</td>\n",
       "    </tr>\n",
       "    <tr>\n",
       "      <th>292</th>\n",
       "      <td>What is the evidence for vaping?</td>\n",
       "      <td>3221856</td>\n",
       "    </tr>\n",
       "    <tr>\n",
       "      <th>293</th>\n",
       "      <td>What is evidence of vaping?</td>\n",
       "      <td>3221856</td>\n",
       "    </tr>\n",
       "  </tbody>\n",
       "</table>\n",
       "<p>294 rows × 2 columns</p>\n",
       "</div>"
      ],
      "text/plain": [
       "                                        Question   FAQ_ID\n",
       "0    What does it mean to have a mental illness?  1590140\n",
       "1      What does it mean to have mental illness?  1590140\n",
       "2      What is it like to have a mental illness?  1590140\n",
       "3                How does mental illness affect?  2110618\n",
       "4            How does mental illness affect you?  2110618\n",
       "..                                           ...      ...\n",
       "289             What is legal status of CBD oil?  6521784\n",
       "290        What are the legal status of CBD oil?  6521784\n",
       "291              What is the evidence of vaping?  3221856\n",
       "292             What is the evidence for vaping?  3221856\n",
       "293                  What is evidence of vaping?  3221856\n",
       "\n",
       "[294 rows x 2 columns]"
      ]
     },
     "execution_count": 22,
     "metadata": {},
     "output_type": "execute_result"
    }
   ],
   "source": [
    "eval_data"
   ]
  },
  {
   "cell_type": "code",
   "execution_count": 23,
   "id": "bcb9b0d4",
   "metadata": {},
   "outputs": [],
   "source": [
    "def get_faq_id_s1(query=\"\", k=5, num_candidates=10):\n",
    "    \n",
    "    if query is not None and len(query) == 0:\n",
    "        print('Query cannot be empty')\n",
    "        return None\n",
    "    else:\n",
    "        instruction=\"Represent this sentence for searching relevant passages: \"\n",
    "\n",
    "        query_answer_emb = answer_emb_model.encode(instruction + query, normalize_embeddings=True)\n",
    "\n",
    "        payload = {\n",
    "          \"knn\": [\n",
    "          {\n",
    "            \"field\": \"answer_emb\",\n",
    "            \"query_vector\": query_answer_emb,\n",
    "            \"k\": k,\n",
    "            \"num_candidates\": num_candidates,\n",
    "          }],\n",
    "          \"size\": 1,\n",
    "          \"_source\":[\"faq_id\"]\n",
    "        }\n",
    "\n",
    "        response = es.search(index=index_name, body=payload)['hits']['hits']\n",
    "\n",
    "        return response[0]['_source']['faq_id']"
   ]
  },
  {
   "cell_type": "code",
   "execution_count": 24,
   "id": "369cdb07",
   "metadata": {},
   "outputs": [
    {
     "name": "stderr",
     "output_type": "stream",
     "text": [
      "/var/folders/lh/34smdgg56t14_z7s36pq8j9r0000gn/T/ipykernel_65846/710032138.py:23: DeprecationWarning: The 'body' parameter is deprecated and will be removed in a future version. Instead use individual parameters.\n",
      "  response = es.search(index=index_name, body=payload)['hits']['hits']\n"
     ]
    },
    {
     "data": {
      "text/plain": [
       "6521784"
      ]
     },
     "execution_count": 24,
     "metadata": {},
     "output_type": "execute_result"
    }
   ],
   "source": [
    "get_faq_id_s1(query=\"legal status of CBD oil?\")"
   ]
  },
  {
   "cell_type": "code",
   "execution_count": 25,
   "id": "b2fe5af7",
   "metadata": {},
   "outputs": [],
   "source": [
    "def get_faq_id_s2(query=\"\", k=5, num_candidates=10):\n",
    "    \n",
    "    if query is not None and len(query) == 0:\n",
    "        print('Query cannot be empty')\n",
    "        return None\n",
    "    else:\n",
    "        query_question_emb = question_emb_model.encode(query, normalize_embeddings=True)\n",
    "\n",
    "        instruction=\"Represent this sentence for searching relevant passages: \"\n",
    "\n",
    "        query_answer_emb = answer_emb_model.encode(instruction + query, normalize_embeddings=True)\n",
    "        \n",
    "        payload = {\n",
    "          \"query\": {\n",
    "            \"match\": {\n",
    "              \"title\": {\n",
    "                \"query\": query,\n",
    "                \"boost\": 0.2\n",
    "              }\n",
    "            }\n",
    "          },\n",
    "          \"knn\": [ {\n",
    "            \"field\": \"question_emb\",\n",
    "            \"query_vector\": query_question_emb,\n",
    "            \"k\": k,\n",
    "            \"num_candidates\": num_candidates,\n",
    "            \"boost\": 0.3\n",
    "          },\n",
    "          {\n",
    "            \"field\": \"answer_emb\",\n",
    "            \"query_vector\": query_answer_emb,\n",
    "            \"k\": k,\n",
    "            \"num_candidates\": num_candidates,\n",
    "            \"boost\": 0.5\n",
    "          }],\n",
    "          \"size\": 1,\n",
    "          \"_source\":[\"faq_id\"]\n",
    "        }\n",
    "\n",
    "        response = es.search(index=index_name, body=payload)['hits']['hits']\n",
    "\n",
    "        return response[0]['_source']['faq_id']"
   ]
  },
  {
   "cell_type": "code",
   "execution_count": 26,
   "id": "82091b8e",
   "metadata": {},
   "outputs": [
    {
     "name": "stderr",
     "output_type": "stream",
     "text": [
      "/var/folders/lh/34smdgg56t14_z7s36pq8j9r0000gn/T/ipykernel_65846/2762744896.py:40: DeprecationWarning: The 'body' parameter is deprecated and will be removed in a future version. Instead use individual parameters.\n",
      "  response = es.search(index=index_name, body=payload)['hits']['hits']\n"
     ]
    },
    {
     "data": {
      "text/plain": [
       "6521784"
      ]
     },
     "execution_count": 26,
     "metadata": {},
     "output_type": "execute_result"
    }
   ],
   "source": [
    "get_faq_id_s2(query=\"legal status of CBD oil\", k=10, num_candidates=10)"
   ]
  },
  {
   "cell_type": "code",
   "execution_count": null,
   "id": "12472e12",
   "metadata": {},
   "outputs": [],
   "source": [
    "#eval_data=eval_data.sample(frac=1).reset_index(drop=True)"
   ]
  },
  {
   "cell_type": "code",
   "execution_count": 27,
   "id": "4db5a869",
   "metadata": {},
   "outputs": [
    {
     "name": "stderr",
     "output_type": "stream",
     "text": [
      "/var/folders/lh/34smdgg56t14_z7s36pq8j9r0000gn/T/ipykernel_65846/710032138.py:23: DeprecationWarning: The 'body' parameter is deprecated and will be removed in a future version. Instead use individual parameters.\n",
      "  response = es.search(index=index_name, body=payload)['hits']['hits']\n"
     ]
    }
   ],
   "source": [
    "eval_data['PRED_FAQ_ID_S1'] = eval_data['Question'].apply(lambda x: get_faq_id_s1(query=x, k=10, num_candidates=10))"
   ]
  },
  {
   "cell_type": "code",
   "execution_count": 28,
   "id": "a6a8878a",
   "metadata": {},
   "outputs": [
    {
     "data": {
      "text/html": [
       "<div>\n",
       "<style scoped>\n",
       "    .dataframe tbody tr th:only-of-type {\n",
       "        vertical-align: middle;\n",
       "    }\n",
       "\n",
       "    .dataframe tbody tr th {\n",
       "        vertical-align: top;\n",
       "    }\n",
       "\n",
       "    .dataframe thead th {\n",
       "        text-align: right;\n",
       "    }\n",
       "</style>\n",
       "<table border=\"1\" class=\"dataframe\">\n",
       "  <thead>\n",
       "    <tr style=\"text-align: right;\">\n",
       "      <th></th>\n",
       "      <th>Question</th>\n",
       "      <th>FAQ_ID</th>\n",
       "      <th>PRED_FAQ_ID_S1</th>\n",
       "    </tr>\n",
       "  </thead>\n",
       "  <tbody>\n",
       "    <tr>\n",
       "      <th>0</th>\n",
       "      <td>What does it mean to have a mental illness?</td>\n",
       "      <td>1590140</td>\n",
       "      <td>7995219</td>\n",
       "    </tr>\n",
       "    <tr>\n",
       "      <th>1</th>\n",
       "      <td>What does it mean to have mental illness?</td>\n",
       "      <td>1590140</td>\n",
       "      <td>7995219</td>\n",
       "    </tr>\n",
       "    <tr>\n",
       "      <th>2</th>\n",
       "      <td>What is it like to have a mental illness?</td>\n",
       "      <td>1590140</td>\n",
       "      <td>1590140</td>\n",
       "    </tr>\n",
       "    <tr>\n",
       "      <th>3</th>\n",
       "      <td>How does mental illness affect?</td>\n",
       "      <td>2110618</td>\n",
       "      <td>2110618</td>\n",
       "    </tr>\n",
       "    <tr>\n",
       "      <th>4</th>\n",
       "      <td>How does mental illness affect you?</td>\n",
       "      <td>2110618</td>\n",
       "      <td>1590140</td>\n",
       "    </tr>\n",
       "    <tr>\n",
       "      <th>...</th>\n",
       "      <td>...</td>\n",
       "      <td>...</td>\n",
       "      <td>...</td>\n",
       "    </tr>\n",
       "    <tr>\n",
       "      <th>289</th>\n",
       "      <td>What is legal status of CBD oil?</td>\n",
       "      <td>6521784</td>\n",
       "      <td>6521784</td>\n",
       "    </tr>\n",
       "    <tr>\n",
       "      <th>290</th>\n",
       "      <td>What are the legal status of CBD oil?</td>\n",
       "      <td>6521784</td>\n",
       "      <td>6521784</td>\n",
       "    </tr>\n",
       "    <tr>\n",
       "      <th>291</th>\n",
       "      <td>What is the evidence of vaping?</td>\n",
       "      <td>3221856</td>\n",
       "      <td>3221856</td>\n",
       "    </tr>\n",
       "    <tr>\n",
       "      <th>292</th>\n",
       "      <td>What is the evidence for vaping?</td>\n",
       "      <td>3221856</td>\n",
       "      <td>3221856</td>\n",
       "    </tr>\n",
       "    <tr>\n",
       "      <th>293</th>\n",
       "      <td>What is evidence of vaping?</td>\n",
       "      <td>3221856</td>\n",
       "      <td>3221856</td>\n",
       "    </tr>\n",
       "  </tbody>\n",
       "</table>\n",
       "<p>294 rows × 3 columns</p>\n",
       "</div>"
      ],
      "text/plain": [
       "                                        Question   FAQ_ID  PRED_FAQ_ID_S1\n",
       "0    What does it mean to have a mental illness?  1590140         7995219\n",
       "1      What does it mean to have mental illness?  1590140         7995219\n",
       "2      What is it like to have a mental illness?  1590140         1590140\n",
       "3                How does mental illness affect?  2110618         2110618\n",
       "4            How does mental illness affect you?  2110618         1590140\n",
       "..                                           ...      ...             ...\n",
       "289             What is legal status of CBD oil?  6521784         6521784\n",
       "290        What are the legal status of CBD oil?  6521784         6521784\n",
       "291              What is the evidence of vaping?  3221856         3221856\n",
       "292             What is the evidence for vaping?  3221856         3221856\n",
       "293                  What is evidence of vaping?  3221856         3221856\n",
       "\n",
       "[294 rows x 3 columns]"
      ]
     },
     "execution_count": 28,
     "metadata": {},
     "output_type": "execute_result"
    }
   ],
   "source": [
    "eval_data"
   ]
  },
  {
   "cell_type": "code",
   "execution_count": 29,
   "id": "26da8826",
   "metadata": {},
   "outputs": [
    {
     "name": "stderr",
     "output_type": "stream",
     "text": [
      "/var/folders/lh/34smdgg56t14_z7s36pq8j9r0000gn/T/ipykernel_65846/2762744896.py:40: DeprecationWarning: The 'body' parameter is deprecated and will be removed in a future version. Instead use individual parameters.\n",
      "  response = es.search(index=index_name, body=payload)['hits']['hits']\n"
     ]
    }
   ],
   "source": [
    "eval_data['PRED_FAQ_ID_S2'] = eval_data['Question'].apply(lambda x: get_faq_id_s2(query=x, k=10, num_candidates=10))"
   ]
  },
  {
   "cell_type": "code",
   "execution_count": 30,
   "id": "525599f7",
   "metadata": {},
   "outputs": [
    {
     "data": {
      "text/html": [
       "<div>\n",
       "<style scoped>\n",
       "    .dataframe tbody tr th:only-of-type {\n",
       "        vertical-align: middle;\n",
       "    }\n",
       "\n",
       "    .dataframe tbody tr th {\n",
       "        vertical-align: top;\n",
       "    }\n",
       "\n",
       "    .dataframe thead th {\n",
       "        text-align: right;\n",
       "    }\n",
       "</style>\n",
       "<table border=\"1\" class=\"dataframe\">\n",
       "  <thead>\n",
       "    <tr style=\"text-align: right;\">\n",
       "      <th></th>\n",
       "      <th>Question</th>\n",
       "      <th>FAQ_ID</th>\n",
       "      <th>PRED_FAQ_ID_S1</th>\n",
       "      <th>PRED_FAQ_ID_S2</th>\n",
       "    </tr>\n",
       "  </thead>\n",
       "  <tbody>\n",
       "    <tr>\n",
       "      <th>0</th>\n",
       "      <td>What does it mean to have a mental illness?</td>\n",
       "      <td>1590140</td>\n",
       "      <td>7995219</td>\n",
       "      <td>1590140</td>\n",
       "    </tr>\n",
       "    <tr>\n",
       "      <th>1</th>\n",
       "      <td>What does it mean to have mental illness?</td>\n",
       "      <td>1590140</td>\n",
       "      <td>7995219</td>\n",
       "      <td>1590140</td>\n",
       "    </tr>\n",
       "    <tr>\n",
       "      <th>2</th>\n",
       "      <td>What is it like to have a mental illness?</td>\n",
       "      <td>1590140</td>\n",
       "      <td>1590140</td>\n",
       "      <td>1590140</td>\n",
       "    </tr>\n",
       "    <tr>\n",
       "      <th>3</th>\n",
       "      <td>How does mental illness affect?</td>\n",
       "      <td>2110618</td>\n",
       "      <td>2110618</td>\n",
       "      <td>2110618</td>\n",
       "    </tr>\n",
       "    <tr>\n",
       "      <th>4</th>\n",
       "      <td>How does mental illness affect you?</td>\n",
       "      <td>2110618</td>\n",
       "      <td>1590140</td>\n",
       "      <td>2110618</td>\n",
       "    </tr>\n",
       "    <tr>\n",
       "      <th>...</th>\n",
       "      <td>...</td>\n",
       "      <td>...</td>\n",
       "      <td>...</td>\n",
       "      <td>...</td>\n",
       "    </tr>\n",
       "    <tr>\n",
       "      <th>289</th>\n",
       "      <td>What is legal status of CBD oil?</td>\n",
       "      <td>6521784</td>\n",
       "      <td>6521784</td>\n",
       "      <td>6521784</td>\n",
       "    </tr>\n",
       "    <tr>\n",
       "      <th>290</th>\n",
       "      <td>What are the legal status of CBD oil?</td>\n",
       "      <td>6521784</td>\n",
       "      <td>6521784</td>\n",
       "      <td>6521784</td>\n",
       "    </tr>\n",
       "    <tr>\n",
       "      <th>291</th>\n",
       "      <td>What is the evidence of vaping?</td>\n",
       "      <td>3221856</td>\n",
       "      <td>3221856</td>\n",
       "      <td>3221856</td>\n",
       "    </tr>\n",
       "    <tr>\n",
       "      <th>292</th>\n",
       "      <td>What is the evidence for vaping?</td>\n",
       "      <td>3221856</td>\n",
       "      <td>3221856</td>\n",
       "      <td>3221856</td>\n",
       "    </tr>\n",
       "    <tr>\n",
       "      <th>293</th>\n",
       "      <td>What is evidence of vaping?</td>\n",
       "      <td>3221856</td>\n",
       "      <td>3221856</td>\n",
       "      <td>3221856</td>\n",
       "    </tr>\n",
       "  </tbody>\n",
       "</table>\n",
       "<p>294 rows × 4 columns</p>\n",
       "</div>"
      ],
      "text/plain": [
       "                                        Question   FAQ_ID  PRED_FAQ_ID_S1  \\\n",
       "0    What does it mean to have a mental illness?  1590140         7995219   \n",
       "1      What does it mean to have mental illness?  1590140         7995219   \n",
       "2      What is it like to have a mental illness?  1590140         1590140   \n",
       "3                How does mental illness affect?  2110618         2110618   \n",
       "4            How does mental illness affect you?  2110618         1590140   \n",
       "..                                           ...      ...             ...   \n",
       "289             What is legal status of CBD oil?  6521784         6521784   \n",
       "290        What are the legal status of CBD oil?  6521784         6521784   \n",
       "291              What is the evidence of vaping?  3221856         3221856   \n",
       "292             What is the evidence for vaping?  3221856         3221856   \n",
       "293                  What is evidence of vaping?  3221856         3221856   \n",
       "\n",
       "     PRED_FAQ_ID_S2  \n",
       "0           1590140  \n",
       "1           1590140  \n",
       "2           1590140  \n",
       "3           2110618  \n",
       "4           2110618  \n",
       "..              ...  \n",
       "289         6521784  \n",
       "290         6521784  \n",
       "291         3221856  \n",
       "292         3221856  \n",
       "293         3221856  \n",
       "\n",
       "[294 rows x 4 columns]"
      ]
     },
     "execution_count": 30,
     "metadata": {},
     "output_type": "execute_result"
    }
   ],
   "source": [
    "eval_data"
   ]
  },
  {
   "cell_type": "markdown",
   "id": "c5eba842",
   "metadata": {},
   "source": [
    "### System 1 (using KNN search only)"
   ]
  },
  {
   "cell_type": "code",
   "execution_count": 31,
   "id": "d3f75190",
   "metadata": {},
   "outputs": [],
   "source": [
    "from sklearn.metrics import accuracy_score\n",
    "\n",
    "ground_truth = eval_data[\"FAQ_ID\"].values\n",
    "predictions_s1 = eval_data[\"PRED_FAQ_ID_S1\"].values\n",
    "\n",
    "accuracy = accuracy_score(ground_truth, predictions_s1)"
   ]
  },
  {
   "cell_type": "code",
   "execution_count": 32,
   "id": "f18aef74",
   "metadata": {},
   "outputs": [
    {
     "data": {
      "text/plain": [
       "0.7210884353741497"
      ]
     },
     "execution_count": 32,
     "metadata": {},
     "output_type": "execute_result"
    }
   ],
   "source": [
    "accuracy"
   ]
  },
  {
   "cell_type": "markdown",
   "id": "864a43b4",
   "metadata": {},
   "source": [
    "### System 2(using Query, Question KNN and Answer KNN)"
   ]
  },
  {
   "cell_type": "code",
   "execution_count": 33,
   "id": "eaddf995",
   "metadata": {},
   "outputs": [],
   "source": [
    "predictions_s2 = eval_data[\"PRED_FAQ_ID_S2\"].values\n",
    "\n",
    "accuracy = accuracy_score(ground_truth, predictions_s2)"
   ]
  },
  {
   "cell_type": "code",
   "execution_count": 34,
   "id": "0fae50d9",
   "metadata": {},
   "outputs": [
    {
     "data": {
      "text/plain": [
       "0.8571428571428571"
      ]
     },
     "execution_count": 34,
     "metadata": {},
     "output_type": "execute_result"
    }
   ],
   "source": [
    "accuracy"
   ]
  },
  {
   "cell_type": "code",
   "execution_count": null,
   "id": "f9533126",
   "metadata": {},
   "outputs": [],
   "source": []
  }
 ],
 "metadata": {
  "kernelspec": {
   "display_name": "Python 3 (ipykernel)",
   "language": "python",
   "name": "python3"
  },
  "language_info": {
   "codemirror_mode": {
    "name": "ipython",
    "version": 3
   },
   "file_extension": ".py",
   "mimetype": "text/x-python",
   "name": "python",
   "nbconvert_exporter": "python",
   "pygments_lexer": "ipython3",
   "version": "3.11.5"
  }
 },
 "nbformat": 4,
 "nbformat_minor": 5
}
